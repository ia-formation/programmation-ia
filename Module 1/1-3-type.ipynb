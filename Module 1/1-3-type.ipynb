{
 "cells": [
  {
   "cell_type": "markdown",
   "metadata": {},
   "source": [
    "## Section 1.3 – Type\n",
    "### Nombres\n",
    "Comme nous l'avons mentionné dans l'introduction, les données dans Python auront toujours un type spécifique, et il est vraiment important de pouvoir suivre et prédire quel type une certaine valeur ou variable sera, car le type d'une valeur peut changer son fonctionnement dans certaines circonstances.\n",
    "\n",
    "Nous pouvons trouver le type d'une valeur particulière en Python en utilisant la syntaxe suivante : `type(x)`. Dans ces exemples, nous montrons le type du nombre `10` et du booléen `True` :"
   ]
  },
  {
   "cell_type": "code",
   "execution_count": 1,
   "metadata": {},
   "outputs": [
    {
     "data": {
      "text/plain": [
       "int"
      ]
     },
     "execution_count": 1,
     "metadata": {},
     "output_type": "execute_result"
    }
   ],
   "source": [
    "type(10)"
   ]
  },
  {
   "cell_type": "markdown",
   "metadata": {},
   "source": [
    "`type(10)` donne `int` – 10 est un type de nombre appelé un *entier* (nombre entier)"
   ]
  },
  {
   "cell_type": "code",
   "execution_count": 2,
   "metadata": {},
   "outputs": [
    {
     "data": {
      "text/plain": [
       "bool"
      ]
     },
     "execution_count": 2,
     "metadata": {},
     "output_type": "execute_result"
    }
   ],
   "source": [
    "type(True)"
   ]
  },
  {
   "cell_type": "markdown",
   "metadata": {},
   "source": [
    "`type(True)` donne `bool` – l'abréviation de Python pour Booléen\n",
    "\n",
    "Cela peut sembler un peu étrange. C'est une nouvelle façon d'écrire du code par rapport à ce que vous avez vu auparavant.\n",
    "\n",
    "`type(x)` est appelé une **fonction** – toute *expression* écrite à la place de `x` sera d'abord *évaluée*, puis le *type* du résultat sera sorti comme le résultat de l'expression globale. Nous commencerons à *utiliser* certaines fonctions importantes dans ce notebook, mais nous parlerons plus formellement d'elles dans le prochain module.\n",
    "\n",
    "J'ai effacé le champ de sortie des cellules suivantes. Essayez de deviner quel sera le type, puis exécutez-les et voyez si vous avez raison :"
   ]
  },
  {
   "cell_type": "code",
   "execution_count": null,
   "metadata": {},
   "outputs": [],
   "source": [
    "type(10 + 20)"
   ]
  },
  {
   "cell_type": "code",
   "execution_count": null,
   "metadata": {},
   "outputs": [],
   "source": [
    "type(True or not False)"
   ]
  },
  {
   "cell_type": "code",
   "execution_count": null,
   "metadata": {},
   "outputs": [],
   "source": [
    "type(10 / 2)"
   ]
  },
  {
   "cell_type": "markdown",
   "metadata": {},
   "source": [
    "Personne ne vous blâmera si vous n'avez pas eu la troisième bonne. Évidemment, le résultat de 10 ÷ 2 est 5, alors pourquoi son type apparaît-il comme `float` plutôt que `int` ?\n",
    "\n",
    "`float` est l'abréviation de **nombre à virgule flottante**. C'est le format que les ordinateurs utilisent pour stocker les nombres fractionnaires (décimaux). Nous savons que 10 ÷ 2 résulte en un entier, mais pour d'autres divisions, cela n'est pas toujours vrai. Lorsque vous divisez deux nombres en utilisant `/` en Python, le résultat est *toujours* un float. Python l'indiquera en écrivant `5.0` au lieu de `5`, comme le montrent les morceaux de code suivants :"
   ]
  },
  {
   "cell_type": "code",
   "execution_count": 3,
   "metadata": {},
   "outputs": [
    {
     "data": {
      "text/plain": [
       "5.0"
      ]
     },
     "execution_count": 3,
     "metadata": {},
     "output_type": "execute_result"
    }
   ],
   "source": [
    "10 / 2"
   ]
  },
  {
   "cell_type": "code",
   "execution_count": 4,
   "metadata": {},
   "outputs": [
    {
     "data": {
      "text/plain": [
       "float"
      ]
     },
     "execution_count": 4,
     "metadata": {},
     "output_type": "execute_result"
    }
   ],
   "source": [
    "type(5.0)"
   ]
  },
  {
   "cell_type": "code",
   "execution_count": 5,
   "metadata": {},
   "outputs": [
    {
     "data": {
      "text/plain": [
       "int"
      ]
     },
     "execution_count": 5,
     "metadata": {},
     "output_type": "execute_result"
    }
   ],
   "source": [
    "type(5)"
   ]
  },
  {
   "cell_type": "markdown",
   "metadata": {},
   "source": [
    "### Variables\n",
    "Python est un langage à *typage dynamique*. Vous n'avez pas vraiment besoin de savoir ce que cela signifie, sauf que Python fera généralement du bon travail pour suivre le type pour vous. Nous n'avons pas besoin de déclarer le type d'une variable lorsque nous la créons, ce que nous devrions faire dans de nombreux autres langages.\n",
    "\n",
    "Comme nous l'avons mentionné précédemment, les cellules dans Jupyter Notebook s'exécutent dans un grand environnement, donc si nous créons une variable dans une cellule, nous pouvons la modifier et l'utiliser dans une autre cellule, comme vous pouvez le voir dans les exemples ci-dessous. Assurez-vous juste de les exécuter dans le bon ordre !\n",
    "\n",
    "Ces cellules démontrent comment Python garde la trace de ce qui est assigné à une variable même si vous changez son type."
   ]
  },
  {
   "cell_type": "code",
   "execution_count": 6,
   "metadata": {},
   "outputs": [
    {
     "data": {
      "text/plain": [
       "int"
      ]
     },
     "execution_count": 6,
     "metadata": {},
     "output_type": "execute_result"
    }
   ],
   "source": [
    "num = 10\n",
    "type(num)"
   ]
  },
  {
   "cell_type": "code",
   "execution_count": 7,
   "metadata": {},
   "outputs": [
    {
     "data": {
      "text/plain": [
       "float"
      ]
     },
     "execution_count": 7,
     "metadata": {},
     "output_type": "execute_result"
    }
   ],
   "source": [
    "num = num / 2\n",
    "type(num)"
   ]
  },
  {
   "cell_type": "markdown",
   "metadata": {},
   "source": [
    "### Opérations Utiles\n",
    "Cependant, nous voulons occasionnellement avoir le contrôle sur le type de nos données. Supposons que nous faisons une division où nous *voulons* que la réponse soit un entier.\n"
   ]
  },
  {
   "cell_type": "code",
   "execution_count": 8,
   "metadata": {},
   "outputs": [
    {
     "data": {
      "text/plain": [
       "66.66666666666667"
      ]
     },
     "execution_count": 8,
     "metadata": {},
     "output_type": "execute_result"
    }
   ],
   "source": [
    "200 / 3"
   ]
  },
  {
   "cell_type": "markdown",
   "metadata": {},
   "source": [
    "Il y a quelques options pour cela.\n",
    "\n",
    "#### Division Entière\n",
    "Si nous utilisons `//` au lieu de `/`, cela effectuera une *division entière* :"
   ]
  },
  {
   "cell_type": "code",
   "execution_count": 9,
   "metadata": {},
   "outputs": [
    {
     "data": {
      "text/plain": [
       "66"
      ]
     },
     "execution_count": 9,
     "metadata": {},
     "output_type": "execute_result"
    }
   ],
   "source": [
    "200 // 3"
   ]
  },
  {
   "cell_type": "markdown",
   "metadata": {},
   "source": [
    "*(Remarque : il serait peut-être plus correct d'appeler cela une division “par défaut”, car elle arrondit toujours vers le bas, y compris pour les nombres négatifs.)*\n",
    "\n",
    "L'opération de division entière a un homologue utile appelé *modulo*. Cela montre le *reste après une division entière* et est écrit avec `%` :\n"
   ]
  },
  {
   "cell_type": "code",
   "execution_count": 10,
   "metadata": {},
   "outputs": [
    {
     "data": {
      "text/plain": [
       "2"
      ]
     },
     "execution_count": 10,
     "metadata": {},
     "output_type": "execute_result"
    }
   ],
   "source": [
    "200 % 3"
   ]
  },
  {
   "cell_type": "markdown",
   "metadata": {},
   "source": [
    "Les deux opérations `//` et `%` peuvent être utilisées pour répondre à une question de division avec un reste.\n",
    "\n",
    "Par exemple :\n",
    "> Q : Quel est le résultat de 200 divisé par 3 ? <br>\n",
    "> R : C'est 66 reste 2.\n",
    "\n",
    "En général :\n",
    "> Q : Quel est le résultat de `x` divisé par `y` ? <br>\n",
    "> R : C'est `x // y` reste `x % y`.\n",
    "\n",
    "#### Conversion de Type\n",
    "Si nous avons déjà un nombre décimal, nous pouvons également le convertir *directement* en un entier :"
   ]
  },
  {
   "cell_type": "code",
   "execution_count": 11,
   "metadata": {},
   "outputs": [
    {
     "data": {
      "text/plain": [
       "66"
      ]
     },
     "execution_count": 11,
     "metadata": {},
     "output_type": "execute_result"
    }
   ],
   "source": [
    "num = 200 / 3\n",
    "num = int(num)\n",
    "num"
   ]
  },
  {
   "cell_type": "markdown",
   "metadata": {},
   "source": [
    "Ici, nous avons utilisé la *fonction* appelée `int(x)` pour convertir le nombre en un entier.\n",
    "\n",
    "#### Arrondissement\n",
    "Notez que les deux techniques précédentes *tronquent* simplement (jettent) la partie décimale du nombre à virgule flottante. Si vous souhaitez arrondir pour créer un entier, vous pouvez utiliser une autre fonction utile : `round(x)`\n"
   ]
  },
  {
   "cell_type": "code",
   "execution_count": 12,
   "metadata": {},
   "outputs": [
    {
     "data": {
      "text/plain": [
       "67"
      ]
     },
     "execution_count": 12,
     "metadata": {},
     "output_type": "execute_result"
    }
   ],
   "source": [
    "num = 200 / 3\n",
    "num = round(num)\n",
    "num"
   ]
  },
  {
   "cell_type": "markdown",
   "metadata": {},
   "source": [
    "Nous parlerons davantage des fonctions lors du module suivant.\n",
    "\n",
    "#### Combinaison de Types\n",
    "Le type est utile pour comprendre quelles opérations ont du sens. Nous pouvons faire\n",
    "```python\n",
    "10 + 20\n",
    "```\n",
    "et\n",
    "```python\n",
    "True and True\n",
    "```\n",
    "mais\n",
    "```python\n",
    "True + True\n",
    "```\n",
    "n'a pas vraiment de sens. L'opération d'addition `+` est définie pour deux nombres et le résultat est un nombre. L'opération ET `and` est définie pour deux booléens et le résultat est un booléen. Il n'est pas vraiment logique d'*ajouter* deux valeurs booléennes.\n",
    "\n",
    "***Note avancée :*** *en fait, rappelez-vous comment j'ai dit que vous pouviez penser à `True` comme étant égal à `1` ? C'est effectivement le cas. Ainsi, `True + True` équivaut à `2`. C'est juste déroutant, donc je ne recommande pas de faire réellement des calculs avec des booléens dans un contexte normal*.\n",
    "\n",
    "Il existe certaines opérations très courantes qui combinent les types – où la sortie n'est pas du même type que l'entrée. Devinez quel sera le résultat de la cellule suivante avant de l'exécuter :"
   ]
  },
  {
   "cell_type": "code",
   "execution_count": null,
   "metadata": {},
   "outputs": [],
   "source": [
    "type(10 > 2)"
   ]
  },
  {
   "cell_type": "markdown",
   "metadata": {},
   "source": [
    "... Je vais essayer de ne pas vous donner la réponse trop tôt.\n",
    "\n",
    "Vous avez déjà essayé ?\n",
    "\n",
    "D'accord, le résultat est un booléen. Si vous reconnaissez le symbole, vous saurez qu'il signifie \"plus grand que\". 10 est plus grand que 2, donc le résultat est Vrai, un booléen.\n",
    "\n",
    "Vous pouvez utiliser toutes les opérations suivantes pour comparer deux nombres (et d'autres éléments, comme vous le verrez plus tard)\n",
    "\n",
    "|Opération              |  Code  |\n",
    "|:----------------------|:------:|\n",
    "|Plus grand que         | `>`    |\n",
    "|Plus petit que         | `<`    |\n",
    "|Plus grand ou égal à   | `>=`   |\n",
    "|Plus petit ou égal à   | `<=`   |\n",
    "|Égal à                 | `==`   |\n",
    "|Différent de           | `!=`   |"
   ]
  },
  {
   "cell_type": "code",
   "execution_count": 13,
   "metadata": {},
   "outputs": [
    {
     "data": {
      "text/plain": [
       "True"
      ]
     },
     "execution_count": 13,
     "metadata": {},
     "output_type": "execute_result"
    }
   ],
   "source": [
    "10 > 2"
   ]
  },
  {
   "cell_type": "code",
   "execution_count": 14,
   "metadata": {
    "scrolled": true
   },
   "outputs": [
    {
     "data": {
      "text/plain": [
       "False"
      ]
     },
     "execution_count": 14,
     "metadata": {},
     "output_type": "execute_result"
    }
   ],
   "source": [
    "5 == 2"
   ]
  },
  {
   "cell_type": "markdown",
   "metadata": {},
   "source": [
    "⚠️**Point extrêmement important !!** ⚠️\n",
    "\n",
    "Il y a une différence très importante entre `5 == 2` et `5 = 2`\n",
    "\n",
    "Le second est interprété comme une *affectation*. Mais `5` n'est pas une variable, vous ne pouvez pas changer sa valeur en `2`. Donc, ce code générera une erreur.\n",
    "\n"
   ]
  },
  {
   "cell_type": "code",
   "execution_count": 15,
   "metadata": {},
   "outputs": [
    {
     "ename": "SyntaxError",
     "evalue": "cannot assign to literal here. Maybe you meant '==' instead of '='? (637806826.py, line 1)",
     "output_type": "error",
     "traceback": [
      "\u001b[0;36m  Cell \u001b[0;32mIn[15], line 1\u001b[0;36m\u001b[0m\n\u001b[0;31m    5 = 2\u001b[0m\n\u001b[0m    ^\u001b[0m\n\u001b[0;31mSyntaxError\u001b[0m\u001b[0;31m:\u001b[0m cannot assign to literal here. Maybe you meant '==' instead of '='?\n"
     ]
    }
   ],
   "source": [
    "5 = 2"
   ]
  },
  {
   "cell_type": "markdown",
   "metadata": {},
   "source": [
    "Lorsque vous produisez une cellule avec une erreur dans Jupyter, Python vous indiquera des informations sur ce qui a mal tourné, dans ce cas une erreur de syntaxe. `5` est une *valeur littérale* (une valeur exacte) et non une *variable*, donc nous ne pouvons rien lui attribuer. C'est la première fois que nous vous montrons volontairement une erreur, bien que vous en ayez probablement déjà vu beaucoup si vous expérimentez correctement ! Ne soyez pas rebuté par les erreurs, elles font partie intégrante de la programmation. Essayez juste de les corriger si vous voyez ce qui ne va pas. Nous reviendrons sur la manière de lire et de corriger les erreurs dans un chapitre ultérieur.\n",
    "\n",
    "Confondre l'égalité et l'affectation est une erreur courante, mais au moins si cela génère une erreur, vous le remarquerez. Cela devient plus subtil avec les variables, donc vous devez vraiment être prudent :"
   ]
  },
  {
   "cell_type": "code",
   "execution_count": 16,
   "metadata": {},
   "outputs": [
    {
     "data": {
      "text/plain": [
       "False"
      ]
     },
     "execution_count": 16,
     "metadata": {},
     "output_type": "execute_result"
    }
   ],
   "source": [
    "num = 5\n",
    "# La ligne suivante est une expression, lorsqu'elle est évaluée, elle renvoie False\n",
    "num == 2"
   ]
  },
  {
   "cell_type": "code",
   "execution_count": 17,
   "metadata": {},
   "outputs": [
    {
     "data": {
      "text/plain": [
       "2"
      ]
     },
     "execution_count": 17,
     "metadata": {},
     "output_type": "execute_result"
    }
   ],
   "source": [
    "num = 5 \n",
    "# La ligne suivante est une instruction. Lorsqu'elle est exécutée, elle modifie la valeur de num !\n",
    "num = 2\n",
    "num"
   ]
  },
  {
   "cell_type": "markdown",
   "metadata": {},
   "source": [
    "#### Questions\n",
    "Comme d'habitude, essayez le quiz ci-dessous pour tester votre compréhension jusqu'à présent."
   ]
  },
  {
   "cell_type": "code",
   "execution_count": null,
   "metadata": {},
   "outputs": [],
   "source": [
    "from questions_interactives import run\n",
    "run(\"1.3.1q.txt\")"
   ]
  }
 ],
 "metadata": {
  "kernelspec": {
   "display_name": "Python 3 (ipykernel)",
   "language": "python",
   "name": "python3"
  },
  "language_info": {
   "codemirror_mode": {
    "name": "ipython",
    "version": 3
   },
   "file_extension": ".py",
   "mimetype": "text/x-python",
   "name": "python",
   "nbconvert_exporter": "python",
   "pygments_lexer": "ipython3",
   "version": "3.10.12"
  }
 },
 "nbformat": 4,
 "nbformat_minor": 2
}
