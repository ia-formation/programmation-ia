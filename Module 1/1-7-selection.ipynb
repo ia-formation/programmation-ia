{
 "cells": [
  {
   "cell_type": "markdown",
   "metadata": {},
   "source": [
    "## Section 1.7 – Sélection\n",
    "### Structure Logique\n",
    "Nous vous avons montré cette fonction personnalisée inhabituelle dans le cours. La voici à nouveau sous forme de code pour que vous puissiez l'exécuter vous-même :"
   ]
  },
  {
   "cell_type": "code",
   "execution_count": 1,
   "metadata": {},
   "outputs": [
    {
     "data": {
      "text/plain": [
       "1024"
      ]
     },
     "execution_count": 1,
     "metadata": {},
     "output_type": "execute_result"
    }
   ],
   "source": [
    "def f(x):\n",
    "    v1 = x**2\n",
    "    v2 = 2**x\n",
    "    return max(v1, v2)\n",
    "var = 10\n",
    "y = f(var)\n",
    "y"
   ]
  },
  {
   "cell_type": "markdown",
   "metadata": {},
   "source": [
    "Le but de la fonction n'est pas d'être particulièrement utile, mais de démontrer comment lire le code ligne par ligne. Repassons à nouveau par ces étapes ici pour être complets :\n",
    "\n",
    "```python\n",
    "1    def f(x):\n",
    "2        v1 = x**2\n",
    "3        v2 = 2**x\n",
    "4        return max(v1, v2)\n",
    "5    var = 10\n",
    "6    y = f(var)\n",
    "7    y\n",
    "```\n",
    "\n",
    "Imaginez que nous sommes l'ordinateur exécutant le code de haut en bas.\n",
    "* D'abord, nous exécutons les lignes `1`, `2`, `3` et `4`. Celles-ci définissent la fonction `f`. Après avoir exécuté ces lignes, la fonction a été créée, mais aucun code à l'intérieur de la fonction n'est réellement *exécuté* car la fonction n'a pas été *appelée*.\n",
    "* À la ligne `5`, nous créons une variable appelée `var` avec la valeur `10`.\n",
    "* À la ligne `6`, nous appelons la fonction `f` avec son paramètre `x` défini sur la valeur de `var` (qui est `10`) :\n",
    " * Ainsi, le *flux de code* saute à la ligne `1`, **mais** nous nous souvenons que nous sommes venus de la ligne `6`\n",
    " * La ligne `2` calcule $10^2=100$ et l'attribue à `v1`\n",
    " * La ligne `3` calcule $2^{10}=1024$ et l'attribue à `v2`\n",
    " * Puis la ligne `4` retourne la valeur maximale des deux, qui est `v2` avec la valeur `1024`.\n",
    "* Puisque nous avons atteint une instruction return, nous retournons à la ligne dont nous nous souvenons : la ligne `6`. Nous n'avons pas fini avec cette ligne. Nous avons *évalué* l'*expression* du côté droit de l'*affectation*, mais nous devons encore compléter l'affectation elle-même. Nous créons la nouvelle variable `y` avec la valeur `1024`.\n",
    "* Enfin, la ligne `7` affiche la valeur de `y` pour que nous puissions la voir dans Jupyter.\n",
    "\n",
    "**Cela a-t-il du sens ?**\n",
    "\n",
    "Essayez à nouveau avec quelques modifications. Que se passerait-il si nous changions la valeur de `10` à la ligne 5 ? Que se passe-t-il si elle est changée en `1` ? Que se passe-t-il si elle est changée en `2` ? Pouvez-vous parcourir toutes les lignes de code sans avoir à cliquer sur le bouton d'exécution ?\n",
    "\n",
    "Cela s'appelle *tracer* le code et c'est extrêmement important de pouvoir le faire – encore une fois, vous devez être capable de lire votre propre code pour comprendre ce qu'il fait si vous espérez pouvoir le faire fonctionner !\n",
    "\n",
    "### Instructions If\n",
    "Dans les questions de la dernière section, nous vous avons demandé d'écrire une fonction qui échangeait le premier et le dernier caractère d'une chaîne. J'espère que vous avez écrit quelque chose comme ceci :"
   ]
  },
  {
   "cell_type": "code",
   "execution_count": 2,
   "metadata": {},
   "outputs": [
    {
     "data": {
      "text/plain": [
       "'ronjoub'"
      ]
     },
     "execution_count": 2,
     "metadata": {},
     "output_type": "execute_result"
    }
   ],
   "source": [
    "def echanger_extremites(s):\n",
    "    return s[-1] + s[1:-1] + s[0]\n",
    "\n",
    "echanger_extremites('bonjour')"
   ]
  },
  {
   "cell_type": "markdown",
   "metadata": {},
   "source": [
    "Une mise en garde importante de cette question était que la chaîne aurait toujours une longueur de 2 ou plus. Savez-vous pourquoi ? Eh bien, regardez ce qui se passe si nous appelons cette fonction avec une chaîne de longueur 1 :"
   ]
  },
  {
   "cell_type": "code",
   "execution_count": 3,
   "metadata": {},
   "outputs": [
    {
     "data": {
      "text/plain": [
       "'tt'"
      ]
     },
     "execution_count": 3,
     "metadata": {},
     "output_type": "execute_result"
    }
   ],
   "source": [
    "echanger_extremites('t')"
   ]
  },
  {
   "cell_type": "markdown",
   "metadata": {},
   "source": [
    "Si une chaîne n'a qu'un seul caractère, alors ce caractère est le premier et le dernier, donc la sortie devrait être la même que l'entrée : `'t'`.\n",
    "\n",
    "J'espère que vous pouvez voir pourquoi cela se produit :\n",
    "* `s[-1]` est égal à `'t'`\n",
    "* `s[1:-1]` est vide, il est égal à `''`, une chaîne vide\n",
    "* `s[0]` est également égal à `'t'`\n",
    "\n",
    "Ainsi, `s[-1] + s[1:-1] + s[0]` est égal à `'tt'`.\n",
    "\n",
    "Ce n'est pas idéal.\n",
    "\n",
    "Pire encore, quel devrait être le résultat de `echanger_extremites('')` ? La chaîne est vide, elle n'a pas de premier et de dernier caractère à échanger, donc il semble raisonnable que la sortie soit également une chaîne vide. Mais :"
   ]
  },
  {
   "cell_type": "code",
   "execution_count": 4,
   "metadata": {},
   "outputs": [
    {
     "ename": "IndexError",
     "evalue": "string index out of range",
     "output_type": "error",
     "traceback": [
      "\u001b[0;31m---------------------------------------------------------------------------\u001b[0m",
      "\u001b[0;31mIndexError\u001b[0m                                Traceback (most recent call last)",
      "Cell \u001b[0;32mIn[4], line 1\u001b[0m\n\u001b[0;32m----> 1\u001b[0m \u001b[43mechanger_extremites\u001b[49m\u001b[43m(\u001b[49m\u001b[38;5;124;43m'\u001b[39;49m\u001b[38;5;124;43m'\u001b[39;49m\u001b[43m)\u001b[49m\n",
      "Cell \u001b[0;32mIn[2], line 2\u001b[0m, in \u001b[0;36mechanger_extremites\u001b[0;34m(s)\u001b[0m\n\u001b[1;32m      1\u001b[0m \u001b[38;5;28;01mdef\u001b[39;00m \u001b[38;5;21mechanger_extremites\u001b[39m(s):\n\u001b[0;32m----> 2\u001b[0m     \u001b[38;5;28;01mreturn\u001b[39;00m \u001b[43ms\u001b[49m\u001b[43m[\u001b[49m\u001b[38;5;241;43m-\u001b[39;49m\u001b[38;5;241;43m1\u001b[39;49m\u001b[43m]\u001b[49m \u001b[38;5;241m+\u001b[39m s[\u001b[38;5;241m1\u001b[39m:\u001b[38;5;241m-\u001b[39m\u001b[38;5;241m1\u001b[39m] \u001b[38;5;241m+\u001b[39m s[\u001b[38;5;241m0\u001b[39m]\n",
      "\u001b[0;31mIndexError\u001b[0m: string index out of range"
     ]
    }
   ],
   "source": [
    "echanger_extremites('')"
   ]
  },
  {
   "cell_type": "markdown",
   "metadata": {},
   "source": [
    "Nous obtenons une erreur. Le code essaie toujours d'accéder aux éléments et échouera sur une chaîne vide. C'est une erreur courante lorsqu'on traite avec des chaînes.\n",
    "\n",
    "Traiter des entrées inhabituelles fait partie de l'écriture d'un code **robuste**. Il est bon de réfléchir à quel type d'entrées inhabituelles pourrait casser votre code et de les prendre en compte explicitement.\n",
    "\n",
    "Ce que nous aimerions dire, c'est ceci :\n",
    "* si la chaîne d'entrée a 0 ou 1 caractère, alors la retourner inchangée\n",
    "* sinon, échanger les premiers et derniers caractères\n",
    "\n",
    "Ceci est implémenté avec une fonctionnalité appelée une **instruction if**. Une instruction if permet au code de *se ramifier* en fonction de certaines conditions. C'est une manière extrêmement puissante et naturelle de structurer la logique de notre programme. La plupart des problèmes intéressants *requièrent* une logique de branchement que les instructions if peuvent fournir.\n",
    "\n",
    "Voici la syntaxe pour une instruction if :\n",
    "```python\n",
    "if condition:\n",
    "    # ce code s'exécute si la condition évalue à vrai\n",
    "else:\n",
    "    # ce code s'exécute si la condition évalue à faux\n",
    "```\n",
    "\n",
    "La section `else` est optionnelle, et parfois cette construction plus grande est appelée une instruction \"if-then-else\".\n",
    "\n",
    "La `condition` est ***n'importe quelle expression qui évalue à un booléen***.\n",
    "\n",
    "Voici quelques exemples vraiment simples d'instructions if."
   ]
  },
  {
   "cell_type": "code",
   "execution_count": 5,
   "metadata": {},
   "outputs": [
    {
     "data": {
      "text/plain": [
       "5"
      ]
     },
     "execution_count": 5,
     "metadata": {},
     "output_type": "execute_result"
    }
   ],
   "source": [
    "x = 10\n",
    "if x > 5:\n",
    "    x = 5\n",
    "\n",
    "x"
   ]
  },
  {
   "cell_type": "code",
   "execution_count": 6,
   "metadata": {},
   "outputs": [
    {
     "data": {
      "text/plain": [
       "True"
      ]
     },
     "execution_count": 6,
     "metadata": {},
     "output_type": "execute_result"
    }
   ],
   "source": [
    "x = 10\n",
    "y = 20\n",
    "if x < y:\n",
    "    x = y\n",
    "else:\n",
    "    y = x\n",
    "\n",
    "x == y  "
   ]
  },
  {
   "cell_type": "markdown",
   "metadata": {},
   "source": [
    "Et voici une version mise à jour de `echanger_extremites` montrant comment nous pouvons réellement utiliser une instruction if :"
   ]
  },
  {
   "cell_type": "code",
   "execution_count": 7,
   "metadata": {},
   "outputs": [
    {
     "data": {
      "text/plain": [
       "'ronjoub'"
      ]
     },
     "execution_count": 7,
     "metadata": {},
     "output_type": "execute_result"
    }
   ],
   "source": [
    "def echanger_extremites_ameliore(s):\n",
    "    if len(s) < 2:\n",
    "        return s\n",
    "    else:\n",
    "        return s[-1] + s[1:-1] + s[0]\n",
    "    \n",
    "echanger_extremites_ameliore('bonjour')"
   ]
  },
  {
   "cell_type": "code",
   "execution_count": 8,
   "metadata": {},
   "outputs": [
    {
     "data": {
      "text/plain": [
       "'t'"
      ]
     },
     "execution_count": 8,
     "metadata": {},
     "output_type": "execute_result"
    }
   ],
   "source": [
    "echanger_extremites_ameliore('t')"
   ]
  },
  {
   "cell_type": "code",
   "execution_count": 9,
   "metadata": {},
   "outputs": [
    {
     "data": {
      "text/plain": [
       "''"
      ]
     },
     "execution_count": 9,
     "metadata": {},
     "output_type": "execute_result"
    }
   ],
   "source": [
    "echanger_extremites_ameliore('')"
   ]
  },
  {
   "cell_type": "markdown",
   "metadata": {},
   "source": [
    "### Exemples\n",
    "Voici quelques exemples supplémentaires de programmes avec des instructions if. N'oubliez pas que vous pouvez modifier n'importe quelle cellule Python pour expérimenter – apprenez en faisant !\n",
    "\n",
    "Dans l'exemple ci-dessous, vous pouvez voir une extension de l'instruction if. `elif` est une contraction de \"else if\" (sinon si). Cela nous permet d'écrire une seconde condition qui ne sera vérifiée que si la première condition renvoie `False`."
   ]
  },
  {
   "cell_type": "code",
   "execution_count": 10,
   "metadata": {},
   "outputs": [
    {
     "data": {
      "text/plain": [
       "'bonjour'"
      ]
     },
     "execution_count": 10,
     "metadata": {},
     "output_type": "execute_result"
    }
   ],
   "source": [
    "def retirer_extremites_egales(s):\n",
    "    if len(s) < 1:\n",
    "        return s\n",
    "    elif s[0] == s[-1]:\n",
    "        return s[1:-1]\n",
    "    else:\n",
    "        return s\n",
    "    \n",
    "retirer_extremites_egales(\"bonjour\")"
   ]
  },
  {
   "cell_type": "code",
   "execution_count": 11,
   "metadata": {},
   "outputs": [
    {
     "data": {
      "text/plain": [
       "'loh'"
      ]
     },
     "execution_count": 11,
     "metadata": {},
     "output_type": "execute_result"
    }
   ],
   "source": [
    "retirer_extremites_egales(\"aloha\")"
   ]
  },
  {
   "cell_type": "markdown",
   "metadata": {},
   "source": [
    "Tout code est autorisé à l'intérieur d'une instruction if, y compris une autre instruction if ! Nous appelons cela *l'imbrication*. Le code suivant inclut des instructions if imbriquées. Portez une attention particulière à l'*indentation* des lignes. Après toutes les instructions if, il y a une instruction return qui est indentée d'un niveau. Elle est exécutée de manière habituelle après toutes les instructions if, peu importe comment elles ont été évaluées."
   ]
  },
  {
   "cell_type": "code",
   "execution_count": 12,
   "metadata": {},
   "outputs": [
    {
     "data": {
      "text/plain": [
       "20100.0"
      ]
     },
     "execution_count": 12,
     "metadata": {},
     "output_type": "execute_result"
    }
   ],
   "source": [
    "def revenu_apres_impot(revenu):\n",
    "    impot = 0\n",
    "    if revenu > 12500:\n",
    "        impot = impot + (revenu - 12500) * 0.2\n",
    "        if revenu > 50000:\n",
    "            impot = impot + (revenu - 50000) * 0.2\n",
    "            if revenu > 100000:\n",
    "                # l'abattement personnel diminue de 1 € pour chaque 2 € au-dessus de 100k €\n",
    "                abattement_perdu = min(((revenu - 100000) // 2), 12500)\n",
    "                impot = impot + abattement_perdu * 0.4\n",
    "                if revenu > 150000:\n",
    "                    impot = impot + (revenu - 150000) * 0.05\n",
    "                \n",
    "    return revenu - impot\n",
    "\n",
    "revenu_apres_impot(22000)"
   ]
  },
  {
   "cell_type": "code",
   "execution_count": 13,
   "metadata": {},
   "outputs": [
    {
     "data": {
      "text/plain": [
       "78500.0"
      ]
     },
     "execution_count": 13,
     "metadata": {},
     "output_type": "execute_result"
    }
   ],
   "source": [
    "revenu_apres_impot(115000)"
   ]
  },
  {
   "cell_type": "code",
   "execution_count": 14,
   "metadata": {},
   "outputs": [
    {
     "data": {
      "text/plain": [
       "103000.0"
      ]
     },
     "execution_count": 14,
     "metadata": {},
     "output_type": "execute_result"
    }
   ],
   "source": [
    "revenu_apres_impot(160000)"
   ]
  },
  {
   "cell_type": "markdown",
   "metadata": {},
   "source": [
    "*Note : Aucune garantie que ce calculateur d'impôt sur le revenu soit correct. Veuillez ne pas l'utiliser pour remplir des documents officiels.*\n",
    "\n",
    "Rappelez-vous que les instructions if fonctionnent avec n'importe quelle expression qui évalue à une valeur `True` ou `False`. Cela conduit à une utilisation naturelle des opérations booléennes comme `and` et `or`. Pour coder \"si x est plus grand que 5 et moins que 10\", nous pouvons écrire le code `if x > 5 and x < 10`. Remarquez que nous devons répéter le nom de la variable, nous joignons deux comparaisons booléennes séparées avec un `and`, *pas* simplement en convertissant la phrase mot à mot."
   ]
  },
  {
   "cell_type": "code",
   "execution_count": 15,
   "metadata": {},
   "outputs": [
    {
     "data": {
      "text/plain": [
       "3"
      ]
     },
     "execution_count": 15,
     "metadata": {},
     "output_type": "execute_result"
    }
   ],
   "source": [
    "# ceci est la bonne façon de joindre deux inégalités avec `et`\n",
    "\n",
    "x = 3\n",
    "if x > 5 and x < 10:\n",
    "    x = 0\n",
    "    \n",
    "x"
   ]
  },
  {
   "cell_type": "code",
   "execution_count": 16,
   "metadata": {},
   "outputs": [
    {
     "ename": "SyntaxError",
     "evalue": "invalid syntax (2954068536.py, line 4)",
     "output_type": "error",
     "traceback": [
      "\u001b[0;36m  Cell \u001b[0;32mIn[16], line 4\u001b[0;36m\u001b[0m\n\u001b[0;31m    if x > 5 and < 10:\u001b[0m\n\u001b[0m                 ^\u001b[0m\n\u001b[0;31mSyntaxError\u001b[0m\u001b[0;31m:\u001b[0m invalid syntax\n"
     ]
    }
   ],
   "source": [
    "# ceci pourrait sembler pus naturel mais ça ne fonctionnera pas !\n",
    "\n",
    "x = 3\n",
    "if x > 5 and < 10:\n",
    "    x = 0\n",
    "    \n",
    "x"
   ]
  },
  {
   "cell_type": "markdown",
   "metadata": {},
   "source": [
    "Voici quelques exemples plus complexes de programmes avec des instructions if. Passez du temps avec le code suivant. Changez les arguments de la dernière ligne, essayez vraiment de comprendre ce qui se passera pour un ensemble donné d'entrées."
   ]
  },
  {
   "cell_type": "code",
   "execution_count": 17,
   "metadata": {},
   "outputs": [
    {
     "data": {
      "text/plain": [
       "2.3"
      ]
     },
     "execution_count": 17,
     "metadata": {},
     "output_type": "execute_result"
    }
   ],
   "source": [
    "def tarif_autoroute_a13(heure, jour):\n",
    "    \"\"\"\n",
    "    Retourne les frais en € pour une voiture sur l'autoroute A13 en France\n",
    "    \n",
    "    :param heure: un entier représentant l'heure de la journée\n",
    "    :param jour: une chaîne de trois lettres représentant le jour de la semaine : \"Lun\", \"Mar\", etc\n",
    "    \n",
    "    :Exemple:\n",
    "    \n",
    "    tarif_autoroute_a13(7, \"Sam\")\n",
    "    \"\"\"\n",
    "    if heure >= 6 and heure < 22 and (jour == \"Sam\" or jour == \"Dim\"):\n",
    "        # tarif de jour en weekend\n",
    "        return 2.30\n",
    "    elif (heure < 6 or heure == 22) and (jour == \"Sam\" or jour == \"Dim\"):\n",
    "        # tarif de nuit en weekend\n",
    "        return 1.80\n",
    "    elif heure >= 8 and heure < 20:\n",
    "        # tarif de jour en semaine\n",
    "        return 3.10\n",
    "    elif (heure >= 6 and heure < 8) or (heure >= 20 and heure < 22):\n",
    "        # tarif hors-pointe en semaine\n",
    "        return 2.80\n",
    "    else:\n",
    "        # doit être entre 22h et 6h en semaine\n",
    "        # tarif de nuit en semaine\n",
    "        return 1.80\n",
    "    \n",
    "tarif_autoroute_a13(7, \"Sam\")\n"
   ]
  },
  {
   "cell_type": "markdown",
   "metadata": {},
   "source": [
    "#### Plusieurs Façons de Peler une Orange\n",
    "Chaque fois qu'une instruction return est exécutée, la fonction se termine. Donc, si nous avons une instruction return à l'intérieur d'une instruction if, alors nous savons que tout code *après* l'instruction if doit avoir eu une condition `False` dans l'instruction if.\n",
    "\n",
    "En d'autres termes, au lieu d'écrire ceci :\n",
    "```python\n",
    "def entre_5_et_10(x):\n",
    "    if x >= 5:\n",
    "        if x <= 10:\n",
    "            return True\n",
    "        else:\n",
    "            return False\n",
    "    else:\n",
    "        return False\n",
    "```\n",
    "\n",
    "nous pouvons écrire ceci :\n",
    "```python\n",
    "def entre_5_et_10(x):\n",
    "    if x >= 5:\n",
    "        if x <= 10:\n",
    "            return True\n",
    "    return False\n",
    "```\n",
    "il n'y a pas besoin des instructions `else`, car si la condition de l'instruction if avait été remplie, alors la fonction aurait atteint une instruction return et terminé son exécution. Écrire du code après une instruction if qui contient un return revient au même que de l'écrire dans une instruction else.\n",
    "\n",
    "Des instructions if imbriquées sont équivalentes à utiliser une opération `and`. Donc, ce bloc de code précédent peut être écrit comme ceci :\n",
    "```python\n",
    "def entre_5_et_10(x):\n",
    "    if x >= 5 and x <= 10:\n",
    "        return True\n",
    "    return False\n",
    "```\n",
    "\n",
    "De même, parfois nous nous retrouvons à faire la même chose dans plusieurs instructions `elif` comme cet exemple :\n",
    "```python\n",
    "def hors_de_5_et_10(x):\n",
    "    if x < 5:\n",
    "        return False\n",
    "    elif x > 10:\n",
    "        return False\n",
    "    return True\n",
    "```\n",
    "\n",
    "Et nous pouvons simplifier cela en utilisant une opération `or` :\n",
    "```python\n",
    "def hors_de_5_et_10(x):\n",
    "    if x < 5 or x > 10:\n",
    "        return False\n",
    "    return True\n",
    "```\n",
    "\n",
    "En fait, en revenant à la plage intérieure... une des choses amusantes à propos de Python est le nombre de petits raccourcis qu'il possède – d'autres langages ont tendance à être un peu plus têtus, mais Python a beaucoup de petites fonctionnalités agréables s'ils sont utiles. Par exemple, en Python, vous pouvez écrire `x >= 5 and x <= 10` en utilisant le genre de notation que nous utiliserions en mathématiques : `5 <= x <= 10`.\n",
    "```python\n",
    "def entre_5_et_10(x):\n",
    "    if 5 <= x <= 10:\n",
    "        return True\n",
    "    return False\n",
    "```\n",
    "\n",
    "***Mais en fait...*** cette fonction vérifie une valeur booléenne dans une instruction if, puis retourne la même valeur booléenne ! La manière \"meilleure\" (ou du moins la plus *élégante*) d'écrire cette fonction est sans instruction if du tout :\n",
    "```python\n",
    "def entre_5_et_10(x):\n",
    "    return 5 <= x <= 10\n",
    "```\n",
    "\n",
    "Les programmeurs valorisent quelques choses dans le code. Il doit être efficace (ne pas prendre trop de temps à s'exécuter) et il doit être lisible. Mais c'est aussi agréable quand le code est élégant – cela ne signifie pas toujours moins de lignes, c'est difficile à définir mais vous le savez quand vous le voyez. Ces facteurs vont souvent de pair.\n",
    "\n",
    "Mais vous ne devriez pas trop vous inquiéter d'essayer d'écrire un code \"agréable\" lorsque vous êtes encore en train d'apprendre. Une fois que vous avez une solution qui fonctionne, *alors* pensez à savoir si vous auriez pu atteindre l'objectif d'une meilleure manière. Avec le temps, les solutions les plus élégantes deviendront les premières auxquelles vous penserez."
   ]
  },
  {
   "cell_type": "markdown",
   "metadata": {},
   "source": [
    "### Questions\n",
    "Exécutez la cellule ci-dessous pour effectuer le quiz interactif sur les instructions if, puis complétez les exercices de fonction individuels qui suivent."
   ]
  },
  {
   "cell_type": "code",
   "execution_count": null,
   "metadata": {
    "scrolled": false
   },
   "outputs": [],
   "source": [
    "#%run ../scripts/questions_interactives ./questions/1.7.1q.txt\n",
    "from questions_interactives import run\n",
    "run(\"1.7.1q.txt\")"
   ]
  },
  {
   "cell_type": "markdown",
   "metadata": {},
   "source": [
    "#### Question 1 : Valeur Absolue\n",
    "Écrivez votre propre implémentation de la fonction valeur absolue `abs`, en utilisant une instruction if. Pour rappel, la valeur absolue doit retourner une version positive de tout nombre d'entrée. Vous ne pouvez évidemment pas utiliser la fonction `abs` ! Donc `abs(5)` est `5` et `abs(-5)` est aussi `5`. Plus d'exemples dans la cellule ci-dessous."
   ]
  },
  {
   "cell_type": "code",
   "execution_count": 18,
   "metadata": {},
   "outputs": [
    {
     "name": "stdout",
     "output_type": "stream",
     "text": [
      "Exemples de tests pour la fonction absolue\n",
      "\n",
      "Test 1/5: absolue(5) -> 5\n",
      "Test 2/5: absolue(-5) -> 5\n",
      "Test 3/5: absolue(0) -> 0\n",
      "Test 4/5: absolue(-10000000000000) -> 10000000000000\n",
      "Test 5/5: absolue(-0.5) -> 0.5\n"
     ]
    }
   ],
   "source": [
    "#%run ../scripts/montrer_exemples.py ./questions/1.7/absolue\n",
    "from montrer_exemples import show\n",
    "show(\"absolue\")"
   ]
  },
  {
   "cell_type": "code",
   "execution_count": null,
   "metadata": {},
   "outputs": [],
   "source": [
    "def absolue(val):\n",
    "    pass\n",
    "\n",
    "#%run -i ../scripts/testeur_de_fonction.py ./questions/1.7/absolue\n",
    "from testeur_de_fonction import run\n",
    "run(\"absolue\", globals())"
   ]
  },
  {
   "cell_type": "markdown",
   "metadata": {},
   "source": [
    "#### Question 2 : Le Nombre est-il Pair ?\n",
    "Écrivez une fonction qui détermine si un nombre d'entrée est pair. Un nombre est pair s'il peut être écrit sous la forme $2n$ où $n$ est un entier. Une autre façon de le dire est qu'il est pair s'il se divise par 2 sans reste."
   ]
  },
  {
   "cell_type": "code",
   "execution_count": 19,
   "metadata": {},
   "outputs": [
    {
     "name": "stdout",
     "output_type": "stream",
     "text": [
      "Exemples de tests pour la fonction est_pair\n",
      "\n",
      "Test 1/5: est_pair(2) -> True\n",
      "Test 2/5: est_pair(4) -> True\n",
      "Test 3/5: est_pair(1) -> False\n",
      "Test 4/5: est_pair(3) -> False\n",
      "Test 5/5: est_pair(0) -> True\n"
     ]
    }
   ],
   "source": [
    "#%run ../scripts/montrer_exemples.py ./questions/1.7/est_pair\n",
    "from montrer_exemples import show\n",
    "show(\"est_pair\")"
   ]
  },
  {
   "cell_type": "code",
   "execution_count": null,
   "metadata": {},
   "outputs": [],
   "source": [
    "def est_pair(val):\n",
    "    pass\n",
    "\n",
    "#%run -i ../scripts/testeur_de_fonction.py ./questions/1.7/est_pair\n",
    "from testeur_de_fonction import run\n",
    "run(\"est_pair\", globals())"
   ]
  },
  {
   "cell_type": "markdown",
   "metadata": {},
   "source": [
    "*Bonus : avez-vous utilisé une instruction if ? Il est possible d'écrire cette fonction sans en utiliser une. Essayez. Si vous n'êtes pas sûr, relisez le [texte ci-dessus](#Plusieurs-Façons-de-Peler-une-Orange)...*"
   ]
  },
  {
   "cell_type": "markdown",
   "metadata": {},
   "source": [
    "#### Question 3 : Censure\n",
    "Nous savons tous que les mots de quatre lettres sont les plus susceptibles d'être grossiers, alors censurons-les – remplaçons chaque caractère par un astérisque `*`. Nous ne voulons pas non plus de pluriels de mots grossiers, donc si un mot de cinq lettres se termine par `s`, nous le censurerons également. Mais nous voulons toujours que les gens sachent que c'était un mot de cinq lettres, où est le plaisir si les gens ne peuvent pas deviner de quel mot il s'agit ? Alors assurez-vous d'utiliser le bon nombre d'astérisques."
   ]
  },
  {
   "cell_type": "code",
   "execution_count": 20,
   "metadata": {},
   "outputs": [
    {
     "name": "stdout",
     "output_type": "stream",
     "text": [
      "Exemples de tests pour la fonction censure\n",
      "\n",
      "Test 1/5: censure('bonjour') -> 'bonjour'\n",
      "Test 2/5: censure('bobo') -> '****'\n",
      "Test 3/5: censure('aime') -> '****'\n",
      "Test 4/5: censure('chats') -> '*****'\n",
      "Test 5/5: censure('balivernes') -> 'balivernes'\n"
     ]
    }
   ],
   "source": [
    "#%run ../scripts/montrer_exemples.py ./questions/1.7/censure\n",
    "from montrer_exemples import show\n",
    "show(\"censure\")"
   ]
  },
  {
   "cell_type": "code",
   "execution_count": null,
   "metadata": {},
   "outputs": [],
   "source": [
    "def censure(mot):\n",
    "    pass\n",
    "    \n",
    "#%run -i ../scripts/testeur_de_fonction.py ./questions/1.7/censure\n",
    "from testeur_de_fonction import run\n",
    "run(\"censure\", globals())"
   ]
  }
 ],
 "metadata": {
  "kernelspec": {
   "display_name": "Python 3 (ipykernel)",
   "language": "python",
   "name": "python3"
  },
  "language_info": {
   "codemirror_mode": {
    "name": "ipython",
    "version": 3
   },
   "file_extension": ".py",
   "mimetype": "text/x-python",
   "name": "python",
   "nbconvert_exporter": "python",
   "pygments_lexer": "ipython3",
   "version": "3.10.12"
  }
 },
 "nbformat": 4,
 "nbformat_minor": 2
}
