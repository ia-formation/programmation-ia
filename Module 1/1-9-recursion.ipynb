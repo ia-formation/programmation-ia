{
 "cells": [
  {
   "cell_type": "markdown",
   "metadata": {},
   "source": [
    "## Section 1.9 – Récursivité\n",
    "### Fonctions de Fonctions\n",
    "Les fonctions sont des blocs de code nommés. Vous pouvez écrire n'importe quel code dans une fonction, y compris des appels à d'autres fonctions."
   ]
  },
  {
   "cell_type": "code",
   "execution_count": 1,
   "metadata": {},
   "outputs": [
    {
     "data": {
      "text/plain": [
       "30"
      ]
     },
     "execution_count": 1,
     "metadata": {},
     "output_type": "execute_result"
    }
   ],
   "source": [
    "def fonction_un(x):\n",
    "    if x > 0:\n",
    "        return fonction_deux(x)\n",
    "    else:\n",
    "        return x * 2\n",
    "    \n",
    "def fonction_deux(x):\n",
    "    if x < 0:\n",
    "        return fonction_un(x)\n",
    "    else:\n",
    "        return x * 3\n",
    "    \n",
    "fonction_un(10)"
   ]
  },
  {
   "cell_type": "markdown",
   "metadata": {},
   "source": [
    "Bien sûr, cela ne devrait pas être une nouveauté pour vous. Nous avons utilisé des fonctions comme `len` à l'intérieur de nos propres fonctions depuis que nous les avons introduites pour la première fois.\n",
    "\n",
    "### Récursivité\n",
    "Mais voici une chose étrange : les fonctions peuvent également s'appeler *elles-mêmes*. Cela s'appelle la **récursivité**. Voici un exemple vraiment trivial d'une fonction récursive qui implémente `abs(x)` (notez que ce n'est *pas* une bonne façon d'implémenter cette fonction, juste une démonstration)."
   ]
  },
  {
   "cell_type": "code",
   "execution_count": 2,
   "metadata": {},
   "outputs": [
    {
     "data": {
      "text/plain": [
       "10"
      ]
     },
     "execution_count": 2,
     "metadata": {},
     "output_type": "execute_result"
    }
   ],
   "source": [
    "def recursion(x):\n",
    "    if x < 0:\n",
    "        return recursion(-x)\n",
    "    else:\n",
    "        return x\n",
    "    \n",
    "recursion(-10)"
   ]
  },
  {
   "cell_type": "markdown",
   "metadata": {},
   "source": [
    "Lisez attentivement ce code. Lorsque l'entrée pour `x` est positive, elle est simplement retournée inchangée. Lorsqu'elle est négative, nous appelons à nouveau la fonction avec la valeur de `x` multipliée par `-1` (c'est ce que fait écrire `-x`). Cela donnera une valeur positive, donc elle sera retournée inchangée, ce qui signifie que nous obtenons la valeur positive comme valeur de retour finale.\n",
    "\n",
    "Bien sûr, nous aurions pu simplement écrire `return -x` à la place, et cela aurait été un appel de fonction en moins - j'ai dit que ce n'était pas une bonne façon d'implémenter la fonction. Assurez-vous de comprendre la différence entre les deux versions.\n",
    "\n",
    "Voici un exemple un peu plus sophistiqué qui calcule la *factorielle* d'un nombre. La factorielle de $n$ est calculé en prenant le produit (multiplication) de tous les entiers positifs de $n$ à $1$. Ainsi, la factorielle de cinq, écrite $5!$, se calcule comme suit $$5! = 5 \\times 4 \\times 3 \\times 2 \\times 1 = 120$$"
   ]
  },
  {
   "cell_type": "code",
   "execution_count": 3,
   "metadata": {},
   "outputs": [
    {
     "data": {
      "text/plain": [
       "120"
      ]
     },
     "execution_count": 3,
     "metadata": {},
     "output_type": "execute_result"
    }
   ],
   "source": [
    "def factorielle(n):\n",
    "    if n == 1:\n",
    "        return 1\n",
    "    else:\n",
    "        return n * factorielle(n-1)\n",
    "    \n",
    "factorielle(5)"
   ]
  },
  {
   "cell_type": "markdown",
   "metadata": {},
   "source": [
    "Que se passe-t-il ici ? Eh bien, lorsque nous appelons `factorielle(5)`, nous vérifions si `n` est égal à `1`, ce qui n'est pas le cas, alors nous arrivons à la ligne : `return n * factorielle(n-1)`. C'est là que toute cette pratique à évaluer des expressions intervient ! Nous ne pouvons pas évaluer le `*` jusqu'à ce que nous ayons une valeur pour le côté droit. Donc d'abord, nous devons évaluer `factorielle(n-1)`, c'est-à-dire `factoriel(4)`. Ainsi, nous mettons de côté notre valeur de `n`, et nous appelons `factorielle(4)`...\n",
    "\n",
    "À l'intérieur de `factorielle(4)`, nous avons le même dilemme. Nous devons connaître la valeur de `factorielle(3)`, donc nous mettons de côté notre valeur de `n` et appelons `factorielle(3)`. Mais `factorielle(3)` nécessite `factorielle(2)`, qui nécessite `factorielle(1)`... enfin nous avons une valeur de retour ! `factorielle(1)` retourne `1`. Donc maintenant, le code revient à travers tous les appels de fonction précédents :\n",
    "* `factorielle(2)` retourne `2 * 1`, soit `2`\n",
    "* `factorielle(3)` retourne `3 * 2`, soit `6`\n",
    "* `factorielle(4)` retourne `4 * 6`, soit `24`\n",
    "* `factorielle(5)` retourne `5 * 24`, soit `120`\n",
    "\n",
    "Et nous avons terminé.\n",
    "\n",
    "La récursivité est beaucoup comme l'itération. Nous aurions pu écrire la fonction factoriel comme ceci :"
   ]
  },
  {
   "cell_type": "code",
   "execution_count": 4,
   "metadata": {},
   "outputs": [
    {
     "data": {
      "text/plain": [
       "120"
      ]
     },
     "execution_count": 4,
     "metadata": {},
     "output_type": "execute_result"
    }
   ],
   "source": [
    "def factorielle_itr(n):\n",
    "    total = 1\n",
    "    # rappelez-vous que range(a, b) va de a à b-1\n",
    "    for i in range(2, n+1):\n",
    "        total *= i\n",
    "    return total\n",
    "\n",
    "factorielle_itr(5)"
   ]
  },
  {
   "cell_type": "markdown",
   "metadata": {},
   "source": [
    "La récursivité est une alternative à l'utilisation d'une boucle. Tout ce qui est écrit avec la récursivité peut être écrit avec l'itération, et vice versa. Mais certains codes se prêtent vraiment à être écrits de manière récursive ou itérative. Lorsque vous utilisez Python, vous devriez probablement vous pencher vers l'utilisation d'une boucle comme première option – chaque fois que vous faites un appel récursif, Python doit se souvenir de quelle ligne de code revenir et de toutes les variables locales, donc c'est légèrement moins efficace.\n",
    "\n",
    "Certaines langages sont construits autour de l'idée de fonctions récursives et ont un soutien limité ou aucun pour les boucles. Ce sont des langages de programmation *fonctionnels*. Nous apprendrons quelques concepts de la programmation fonctionnelle que nous pouvons utiliser en Python dans un chapitre ultérieur.\n",
    "\n",
    "Malgré être légèrement moins efficace, certains algorithmes sont vraiment beaucoup plus faciles à comprendre en utilisant la récursivité, et en fait assez difficiles à convertir en une version qui utilise uniquement des boucles. Cela est dû à la façon dont nous pouvons passer des valeurs « entre » les appels de fonction comme paramètres et valeurs de retour, mais chaque fonction se souviendra de ses propres variables locales.\n",
    "\n",
    "Donc, la récursivité est là pour aider ! Il vaut vraiment la peine d'essayer de comprendre comment écrire des fonctions récursives. Cela sera utile lorsque nous en aurons besoin plus tard.\n",
    "\n",
    "### Un Autre Exemple\n",
    "Une autre démonstration courante de la puissance de la récursivité est la suite de *Fibonacci*. Cette suite est définie comme suit :\n",
    "$$\\begin{align} \n",
    "    f(0) &= 0 \\\\\n",
    "    f(1) &= 1 \\\\\n",
    "    f(n) &= f(n-1) + f(n-2) \\text{ pour tous } n > 1\n",
    "\\end{align}$$\n",
    "\n",
    "Chaque valeur après $0$ et $1$ est trouvée en additionnant les deux valeurs précédentes. Ainsi, la troisième valeur est $0 + 1 = 1$, puis $1 + 1 = 2$, puis $1 + 2 = 3$, puis $2 + 3 = 5$, et ainsi de suite.\n",
    "\n",
    "La suite est célèbre pour avoir beaucoup de propriétés intéressantes, vous pouvez en lire plus [sur Wikipédia](https://fr.wikipedia.org/wiki/Suite_de_Fibonacci).\n",
    "\n",
    "Pour écrire une fonction récursive, nous voulons généralement suivre un modèle qui ressemble à quelque chose comme ceci :\n",
    "```python\n",
    "def recursive(x):\n",
    "    if <cas de base>:\n",
    "        return <une valeur réelle>\n",
    "    else:\n",
    "        return ... recursive(<se rapprocher du cas de base>)\n",
    "```\n",
    "\n",
    "C'est le modèle que nous avons utilisé pour écrire `factorielle` ci-dessus. Le cas de base était que lorsque `n` égale `1`, nous savons que la valeur de retour doit être `1`. Puis chaque fois que nous faisons l'appel récursif, nous nous rapprochons du cas de base – pour `factorielle`, cela signifie réduire le nombre plus petit d'un, donc nous savons que nous atteindrons éventuellement `1` pour tous les entiers positifs.\n",
    "\n",
    "Voici une version récursive d'une fonction qui calcule le nième nombre de Fibonacci :"
   ]
  },
  {
   "cell_type": "code",
   "execution_count": 5,
   "metadata": {},
   "outputs": [
    {
     "data": {
      "text/plain": [
       "13"
      ]
     },
     "execution_count": 5,
     "metadata": {},
     "output_type": "execute_result"
    }
   ],
   "source": [
    "def fibonacci_v1(n):\n",
    "    if n == 0:\n",
    "        return 0\n",
    "    elif n == 1:\n",
    "        return 1\n",
    "    else:\n",
    "        return fibonacci_v1(n-1) + fibonacci_v1(n-2)\n",
    "    \n",
    "fibonacci_v1(7)"
   ]
  },
  {
   "cell_type": "markdown",
   "metadata": {},
   "source": [
    "Cette fonction a deux cas de base, un pour `0` et un pour `1`.\n",
    "\n",
    "La fonction fonctionne, mais même des valeurs raisonnables de `n` la font fonctionner assez lentement. Exécutez la ligne ci-dessous – vous verrez probablement qu'elle prend un certain temps à s'exécuter. Si cela prend plus de quelques secondes, arrêtez l'exécution et réessayez avec une valeur plus petite – vous n'avez pas toute la journée !"
   ]
  },
  {
   "cell_type": "code",
   "execution_count": 6,
   "metadata": {},
   "outputs": [
    {
     "data": {
      "text/plain": [
       "832040"
      ]
     },
     "execution_count": 6,
     "metadata": {},
     "output_type": "execute_result"
    }
   ],
   "source": [
    "fibonacci_v1(30)"
   ]
  },
  {
   "cell_type": "markdown",
   "metadata": {},
   "source": [
    "Allez bien au-delà de cela et la fonction causera réellement une erreur : il y a une limite au nombre d'appels récursifs qu'une fonction est autorisée à faire.\n",
    "\n",
    "Le problème est que chaque fois que la fonction est appelée, elle fait deux appels de fonction. Chacun de ceux-ci fait deux appels de fonction, et ainsi de suite. Cela est très inefficace.\n",
    "```\n",
    "               f(4)\n",
    "              /    \\\n",
    "             /      \\\n",
    "            /        \\\n",
    "         f(3)         f(2)\n",
    "        /    \\       /    \\\n",
    "       /      \\   f(1)    f(0)\n",
    "    f(2)      f(1) |       |\n",
    "   /    \\      |   1       0\n",
    "f(1)    f(0)   1\n",
    " |       |\n",
    " 1       0\n",
    "```\n",
    "Maintenant, imaginez à quoi ressemblerait l'arbre pour `f(30)`.\n",
    "\n",
    "Une version itérative de Fibonacci n'aurait pas ce problème. Mais nous pouvons coder une version récursive efficace aussi, et cela nous permet même de démontrer une belle fonctionnalité de Python : nous pouvons inclure **des valeurs par défaut** pour nos paramètres de fonction. Regardez :"
   ]
  },
  {
   "cell_type": "code",
   "execution_count": 7,
   "metadata": {},
   "outputs": [
    {
     "data": {
      "text/plain": [
       "832040"
      ]
     },
     "execution_count": 7,
     "metadata": {},
     "output_type": "execute_result"
    }
   ],
   "source": [
    "def fibonacci_v2(n, dernier_total=1, somme_actuelle=0):\n",
    "    if n == 0:\n",
    "        return somme_actuelle\n",
    "    else:\n",
    "        return fibonacci_v2(n-1, somme_actuelle, dernier_total + somme_actuelle)\n",
    "    \n",
    "fibonacci_v2(30)"
   ]
  },
  {
   "cell_type": "markdown",
   "metadata": {},
   "source": [
    "Prenez le temps de lire ce code. Essayez d'écrire quelques exemples sur papier pour voir comment cela fonctionne. C'est beaucoup plus efficace, et cela permet de calculer des nombres de Fibonacci beaucoup plus grands relativement rapidement :"
   ]
  },
  {
   "cell_type": "code",
   "execution_count": 8,
   "metadata": {},
   "outputs": [
    {
     "data": {
      "text/plain": [
       "43466557686937456435688527675040625802564660517371780402481729089536555417949051890403879840079255169295922593080322634775209689623239873322471161642996440906533187938298969649928516003704476137795166849228875"
      ]
     },
     "execution_count": 8,
     "metadata": {},
     "output_type": "execute_result"
    }
   ],
   "source": [
    "fibonacci_v2(1000)"
   ]
  },
  {
   "cell_type": "markdown",
   "metadata": {},
   "source": [
    "Cependant, Python n'est pas optimisé pour la récursivité de la manière dont de nombreux langages fonctionnels le sont. Donc, si vous continuez à augmenter la valeur pour `n`, vous atteindrez éventuellement la profondeur de récursion maximale et obtiendrez une erreur."
   ]
  },
  {
   "cell_type": "markdown",
   "metadata": {},
   "source": [
    "### Questions\n",
    "#### Question 1 : Inverser une Chaîne de Caractères\n",
    "Écrivez une fonction récursive qui inverse une chaîne de caractères d'entrée. *Conseil : suivez le modèle général ci-dessus, et utilisez la longueur de la chaîne comme base pour le cas de base.*"
   ]
  },
  {
   "cell_type": "code",
   "execution_count": 9,
   "metadata": {},
   "outputs": [
    {
     "name": "stdout",
     "output_type": "stream",
     "text": [
      "Exemples de tests pour la fonction inverse\n",
      "\n",
      "Test 1/5: inverse('Bonjour') -> 'ruojnoB'\n",
      "Test 2/5: inverse('cheval') -> 'lavehc'\n",
      "Test 3/5: inverse('foutaises') -> 'sesiatuof'\n",
      "Test 4/5: inverse('balivernes') -> 'senrevilab'\n",
      "Test 5/5: inverse('la récursivité est plus amusante que la boucle') -> 'elcuob al euq etnasuma sulp tse étivisrucér al'\n"
     ]
    }
   ],
   "source": [
    "#%run ../scripts/montrer_exemples.py ./questions/1.9/inverse\n",
    "from montrer_exemples import show\n",
    "show(\"inverse\")"
   ]
  },
  {
   "cell_type": "code",
   "execution_count": null,
   "metadata": {},
   "outputs": [],
   "source": [
    "def inverse(texte):\n",
    "    pass\n",
    "    \n",
    "#%run -i ../scripts/testeur_de_fonction.py ./questions/1.9/inverse\n",
    "from testeur_de_fonction import run\n",
    "run(\"inverse\", globals())"
   ]
  },
  {
   "cell_type": "markdown",
   "metadata": {},
   "source": [
    "#### Question 2 : Conjecture de Collatz Récursive\n",
    "Dans la section précédente, nous avons examiné une séquence mathématique intéressante qui semble toujours aboutir à un $1$, mais cela n'a pas été prouvé. En l'écrivant mathématiquement, la séquence est formée par des applications successives de la fonction suivante :\n",
    "\n",
    "$$f(n) = \\begin{cases} \n",
    "      3n+1 & \\text{si } n \\text{ est impair} \\\\\n",
    "      \\frac{n}{2} & \\text{si } n \\text{ est pair} \n",
    "   \\end{cases}$$\n",
    "   \n",
    "La conjecture de Collatz se demande : pour tout entier positif $n$, est-ce que $f^i(n)=1$ pour un certain $i$ ?\n",
    "\n",
    "Pour cette question, écrivez la simulation de la conjecture de Collatz en utilisant la récursivité au lieu de l'itération. Retournez le nombre d'étapes nécessaires pour atteindre $1$.\n",
    "\n",
    "Vous pouvez supposer que l'entrée `n` est supérieure ou égale à `1`."
   ]
  },
  {
   "cell_type": "code",
   "execution_count": 10,
   "metadata": {},
   "outputs": [
    {
     "name": "stdout",
     "output_type": "stream",
     "text": [
      "Exemples de tests pour la fonction collatz\n",
      "\n",
      "Test 1/5: collatz(2) -> 1\n",
      "Test 2/5: collatz(3) -> 7\n",
      "Test 3/5: collatz(4) -> 2\n",
      "Test 4/5: collatz(5) -> 5\n",
      "Test 5/5: collatz(6) -> 8\n"
     ]
    }
   ],
   "source": [
    "#%run ../scripts/montrer_exemples.py ./questions/1.9/collatz\n",
    "from montrer_exemples import show\n",
    "show(\"collatz\")"
   ]
  },
  {
   "cell_type": "code",
   "execution_count": null,
   "metadata": {},
   "outputs": [],
   "source": [
    "def collatz(n):\n",
    "    pass\n",
    "    \n",
    "#%run -i ../scripts/testeur_de_fonction.py ./questions/1.9/collatz\n",
    "from testeur_de_fonction import run\n",
    "run(\"collatz\", globals())"
   ]
  },
  {
   "cell_type": "markdown",
   "metadata": {},
   "source": [
    "Pensez aux bénéfices et aux limites de l'écriture de la fonction de Collatz de façon récursive. Un des désavantages est la limite de profondeur de récursion, ce qui ne pose pas de problème avec l'itération. Néanmoins, la façon dont vous aboutissez à écrire la version récursive présente une certaine élégance - elle se rapproche davantage de la manière dont nous exprimerions la fonction en termes mathématiques. Pour certaines questions, une solution récursive peut être plus aisée à implémenter pour cette raison - et cela, parfois de façon notable. Ainsi, ne rejetez pas la récursivité simplement parce que l'itération vous semble conceptuellement plus simple. C'est un outil important à avoir dans votre boîte à outils."
   ]
  }
 ],
 "metadata": {
  "kernelspec": {
   "display_name": "Python 3 (ipykernel)",
   "language": "python",
   "name": "python3"
  },
  "language_info": {
   "codemirror_mode": {
    "name": "ipython",
    "version": 3
   },
   "file_extension": ".py",
   "mimetype": "text/x-python",
   "name": "python",
   "nbconvert_exporter": "python",
   "pygments_lexer": "ipython3",
   "version": "3.10.12"
  }
 },
 "nbformat": 4,
 "nbformat_minor": 2
}
