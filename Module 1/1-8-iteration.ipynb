{
 "cells": [
  {
   "cell_type": "markdown",
   "metadata": {},
   "source": [
    "### Section 1.8 – Itération\n",
    "### Répétition\n",
    "Pour rappel, dans le cours, nous avons mentionné que parfois nous voulons effectuer la même action plus d'une fois. Comme exemple plutôt simple, nous pouvons essayer de calculer la multiplication comme une série d'additions répétées, sans utiliser l'opérateur `*`. En général, $n \\times m$ est\n",
    "$$\\underbrace{n + n + \\dots + n}_{m \\text{ fois}}$$\n",
    "\n",
    "Voici à nouveau notre très mauvaise solution :"
   ]
  },
  {
   "cell_type": "code",
   "execution_count": 1,
   "metadata": {},
   "outputs": [
    {
     "data": {
      "text/plain": [
       "20"
      ]
     },
     "execution_count": 1,
     "metadata": {},
     "output_type": "execute_result"
    }
   ],
   "source": [
    "def mult(n, m):\n",
    "    if m == 1:\n",
    "        return n\n",
    "    elif m == 2:\n",
    "        return n + n\n",
    "    elif m == 3:\n",
    "        return n + n + n\n",
    "    elif m == 4:\n",
    "        return n + n + n + n\n",
    "    \n",
    "mult(5, 4)"
   ]
  },
  {
   "cell_type": "markdown",
   "metadata": {},
   "source": [
    "Nous obtenons la bonne réponse pour $5 \\times 4$, mais comme nous l'avons dit, $4 \\times 5$ ne va pas fonctionner, car nous avons *codé en dur* le comportement seulement jusqu'à $m = 4$."
   ]
  },
  {
   "cell_type": "code",
   "execution_count": 2,
   "metadata": {},
   "outputs": [],
   "source": [
    "mult(4, 5)"
   ]
  },
  {
   "cell_type": "markdown",
   "metadata": {},
   "source": [
    "Exécuter cette cellule ne produit aucune sortie parce que la fonction ne retourne rien. Si nous essayions ensuite d'utiliser cette valeur ailleurs, nous obtiendrions probablement une erreur, mais cela démontre comment parfois un code qui se comporte mal n'est pas immédiatement évident car il pourrait ne pas produire immédiatement une erreur.\n",
    "\n",
    "Comme nous l'avons dit précédemment, la meilleure façon d'atteindre cet objectif est d'utiliser une boucle.\n",
    "\n",
    "### Boucles\n",
    "Commençant par l'itération définie, voici notre boucle *for* typique pour référence :\n",
    "```python\n",
    "for var in range(a,b):\n",
    "    # ici vient le code\n",
    "```\n",
    "\n",
    "La variable appelée `var` prendra à son tour chaque valeur entière en commençant par `a` et se terminant à `b-1`, et le code *à l'intérieur de la boucle* s'exécutera avec chaque valeur.\n",
    "\n",
    "Vous pouvez omettre le premier argument de l'appel de fonction `range` et les nombres commenceront à zéro à la place. Donc\n",
    "```python\n",
    "for var in range(10):\n",
    "    # ici vient le code\n",
    "```\n",
    "bouclera exactement 10 fois : la première valeur de `var` sera `0`, et la dernière valeur sera `9`.\n",
    "\n",
    "Voyons une meilleure version de notre multiplication manuelle dans la cellule ci-dessous. \n",
    "\n",
    "----\n",
    "*Note :* Dans le code ci-dessous, vous verrez la ligne :\n",
    "```python\n",
    "total += n\n",
    "```\n",
    "C'est exactement la même chose que d'écrire :\n",
    "```python\n",
    "total = total + n\n",
    "```\n",
    "Encore une fois, juste un joli raccourci que Python offre, puisque nous faisons beaucoup ce genre de choses. Les autres opérateurs \"mise à jour et assignation\" que vous attendez existent également : `-=` , `*=` , et `/=` .\n",
    "\n",
    "----"
   ]
  },
  {
   "cell_type": "code",
   "execution_count": 3,
   "metadata": {},
   "outputs": [
    {
     "data": {
      "text/plain": [
       "20"
      ]
     },
     "execution_count": 3,
     "metadata": {},
     "output_type": "execute_result"
    }
   ],
   "source": [
    "def meilleure_mult(n, m):\n",
    "    total = 0\n",
    "    for i in range(m):\n",
    "        total += n\n",
    "    return total\n",
    "        \n",
    "meilleure_mult(4, 5)"
   ]
  },
  {
   "cell_type": "code",
   "execution_count": 4,
   "metadata": {},
   "outputs": [
    {
     "data": {
      "text/plain": [
       "400"
      ]
     },
     "execution_count": 4,
     "metadata": {},
     "output_type": "execute_result"
    }
   ],
   "source": [
    "meilleure_mult(4, 100)"
   ]
  },
  {
   "cell_type": "markdown",
   "metadata": {},
   "source": [
    "Probablement pas la façon dont nous allons écrire la multiplication à l'avenir, mais bien mieux que notre version précédente !\n",
    "\n",
    "> ***Exercice :*** <br />\n",
    "> `meilleure_mult(4, 100)` effectue 100 boucles, ajoutant 4 à chaque fois. Cependant, elle pourrait boucler 4 fois en ajoutant 100 à chaque itération. Idéalement, nous minimiserions le nombre de boucles effectuées. Pouvez-vous modifier le code de sorte que la valeur minimale des entrées `n` et `m` soit utilisée pour contrôler la boucle, et que l'autre valeur soit ajoutée au total à l'intérieur de la boucle ?\n",
    "\n",
    "Notez que nous n'utilisons pas la variable appelée `i` à l'intérieur de la boucle for. Il est courant d'utiliser le nom de variable `i` dans les boucles for. Elle est probablement nommée d'après *index*, bien que cet usage vienne des mathématiques, il précède la programmation, donc qui sait vraiment. Vous pouvez nommer votre variable comme vous le souhaitez ! Vous voulez additionner tous les nombres de 100 à 300 ?"
   ]
  },
  {
   "cell_type": "code",
   "execution_count": 5,
   "metadata": {},
   "outputs": [
    {
     "data": {
      "text/plain": [
       "40200"
      ]
     },
     "execution_count": 5,
     "metadata": {},
     "output_type": "execute_result"
    }
   ],
   "source": [
    "total = 0\n",
    "for num in range(100, 301):\n",
    "    total += num\n",
    "    \n",
    "total"
   ]
  },
  {
   "cell_type": "markdown",
   "metadata": {},
   "source": [
    "Mais la raison pour laquelle `i` pour index est devenu si courant est que nous utilisons souvent cette variable comme un index. Dans la section précédente, vous avez écrit une fonction qui censurait certaines chaînes de caractères. Supposons que nous voulions parcourir une chaîne de caractères, en censurant (remplaçant par `*`) toute voyelle – en supposant que seules `a`, `e`, `i`, `o` et `u` sont considérées comme des voyelles pour cet exercice. Pour l'instant, nous supposerons également que la chaîne d'entrée ne contient que des lettres minuscules.\n",
    "\n",
    "Nous pouvons parcourir chaque élément de la chaîne et construire notre nouvelle chaîne en cours de route :"
   ]
  },
  {
   "cell_type": "code",
   "execution_count": 6,
   "metadata": {},
   "outputs": [
    {
     "data": {
      "text/plain": [
       "'b*l*v*rn*s'"
      ]
     },
     "execution_count": 6,
     "metadata": {},
     "output_type": "execute_result"
    }
   ],
   "source": [
    "def censurer_voyelles(mot):\n",
    "    chaine_sortie = \"\"\n",
    "    for i in range(len(mot)):\n",
    "        char = mot[i]\n",
    "        if char == \"a\" or char == \"e\" or char == \"i\" or char == \"o\" or char == \"u\":\n",
    "            chaine_sortie += \"*\"\n",
    "        else:\n",
    "            chaine_sortie += char\n",
    "    return chaine_sortie\n",
    "\n",
    "censurer_voyelles(\"balivernes\")"
   ]
  },
  {
   "cell_type": "markdown",
   "metadata": {},
   "source": [
    "***A nouveau*** prenez le temps de vous familiariser avec ce code – lisez-le attentivement, modifiez-le, assurez-vous de comprendre comment il fonctionne.\n"
   ]
  },
  {
   "cell_type": "markdown",
   "metadata": {},
   "source": [
    "### Boucles Avancées For\n",
    "J'ai légèrement menti plus tôt quand je vous ai dit la syntaxe de la boucle for. Nous n'avons pas à utiliser le mot `range`. Nous pouvons le remplacer par n'importe quel \"objet de collection\". \n",
    "```python\n",
    "for var in collection:\n",
    "    # ici vient le code\n",
    "```\n",
    "\n",
    "Avec ce code, la variable `var` prendra à son tour chacune des valeurs de `collection` et exécutera le code avec chacune. Le terme \"collection\" ici n'est pas destiné à être strict au sens Python. Techniquement, le mot correct est *itérable*, mais cela n'est pas très utile... les sémantiques deviennent difficiles et je ne veux pas m'enliser. Donc, pensez à une \"collection\" comme à tout objet qui contient d'autres objets ou un moyen de générer d'autres objets.\n",
    "\n",
    "`range(0, 6)` est une sorte de collection\n",
    "\n",
    ", elle génère les nombres de `0` à `5`.\n",
    "\n",
    "Les chaînes sont également des collections : elles contiennent des caractères. Nous reviendrons à ce que cela signifie réellement dans un chapitre ultérieur.\n",
    "\n",
    "Toutes les boucles for de Python sont ce que certains langages appellent des *boucles for-each*. Nous pouvons lire la ligne de code à haute voix comme \"pour chaque élément dans la collection\". Nous utilisons `range` pour implémenter la boucle for traditionnelle en utilisant cette syntaxe de boucle *for-each*.\n",
    "\n",
    "Voici une version alternative de notre fonction précédente. Le code est légèrement plus propre à condition de comprendre ce qui se passe :"
   ]
  },
  {
   "cell_type": "code",
   "execution_count": 7,
   "metadata": {},
   "outputs": [
    {
     "data": {
      "text/plain": [
       "'*tér*t**n déf*n**'"
      ]
     },
     "execution_count": 7,
     "metadata": {},
     "output_type": "execute_result"
    }
   ],
   "source": [
    "def censurer_voyelles_v2(mot):\n",
    "    chaine_sortie = \"\"\n",
    "    for char in mot:\n",
    "        if char == \"a\" or char == \"e\" or char == \"i\" or char == \"o\" or char == \"u\":\n",
    "            chaine_sortie += \"*\"\n",
    "        else:\n",
    "            chaine_sortie += char\n",
    "    return chaine_sortie\n",
    "\n",
    "censurer_voyelles_v2(\"itération définie\")"
   ]
  },
  {
   "cell_type": "markdown",
   "metadata": {},
   "source": [
    "Soyons explicites sur ce qui a changé. J'ai remplacé ces deux lignes :\n",
    "```python\n",
    "for i in range(len(mot)):\n",
    "    char = mot[i]\n",
    "```\n",
    "par la ligne unique :\n",
    "```python\n",
    "for char in mot:\n",
    "```\n",
    "\n",
    "Il n'y a pas un monde de différence. Encore une fois, concentrez-vous sur l'obtention d'un code fonctionnel en premier, puis préocupez-vous des autres façons dont vous auriez pu l'écrire pour être plus élégant."
   ]
  },
  {
   "cell_type": "markdown",
   "metadata": {},
   "source": [
    "### Itération Indéfinie\n",
    "Nous avons également mentionné l'itération *indéfinie*, où nous ne savons pas à l'avance exactement combien de répétitions sont requises.\n",
    "\n",
    "Voici une petite curiosité mathématique intéressante. Pensez à un nombre. N'importe quel nombre. De toute façon, n'importe quel entier positif. Appelez-le $n$, disons que vous avez choisi $n=1$, pour l'instant. Maintenant, appliquez ces règles, encore et encore :\n",
    "* Si le nombre est impair, alors calculez $3n + 1$\n",
    "* Si le nombre est pair, alors calculez $n \\div 2$\n",
    "\n",
    "Nous avons commencé avec $1$, qui est impair, donc nous calculons $3(1) + 1$, qui est $4$. <br />\n",
    "$4$ est pair, donc nous faisons $4 \\div 2$ qui est $2$ <br />\n",
    "$2$ est pair, donc nous faisons $2 \\div 2$ qui est $1$\n",
    "\n",
    "Nous sommes de retour là où nous avons commencé. Évidemment, ce modèle va maintenant se répéter : $1 \\rightarrow 4 \\rightarrow 2 \\rightarrow 1 \\rightarrow 4 \\rightarrow 2 \\rightarrow 1 \\rightarrow \\dots$.\n",
    "\n",
    "La chose remarquable à propos de ces règles simples est que pour tout entier positif $n$ nous semblons toujours finir par ce modèle. *Finalement* nous atteignons un $1$.\n",
    "\n",
    "En commençant avec $n=5$, nous obtenons :\n",
    "$$5 \\rightarrow 16 \\rightarrow 8 \\rightarrow 4 \\rightarrow 2 \\rightarrow 1$$ \n",
    "Un total de $5$ étapes pour atteindre $1$.\n",
    "\n",
    "En commençant avec $n=7$, nous obtenons :\n",
    "$$7 \\rightarrow 22 \\rightarrow 11 \\rightarrow 34 \\rightarrow 17 \\rightarrow 52 \\rightarrow 26 \\rightarrow 13 \\rightarrow 40 \\rightarrow 20 \\rightarrow 10 \\rightarrow 5 \\rightarrow 16 \\rightarrow 8 \\rightarrow 4 \\rightarrow 2 \\rightarrow 1$$ \n",
    "Un total de $16$ étapes pour atteindre $1$.\n",
    "\n",
    "En commençant avec $n=8$, nous obtenons :\n",
    "$$8 \\rightarrow 4 \\rightarrow 2 \\rightarrow 1$$\n",
    "Seulement 3 étapes.\n",
    "\n",
    "$8$ est plus grand que $5$ mais prend beaucoup moins d'étapes. Le modèle est imprévisible. Personne n'a pu prouver que vous atteindrez toujours un $1$ – c'est un célèbre problème non résolu appelé la conjecture de Collatz. Mais cela a été confirmé par ordinateur pour tous les entiers jusqu'à environ $10^{20}$ (cent quintillions).\n",
    "\n",
    "Revenons aux boucles. Étant donné un nombre `n`, nous ne savons pas à l'avance combien de fois nous devons appliquer les règles pour atteindre `1`, mais nous pouvons simplement continuer à boucler jusqu'à ce que nous l'atteignions. Cette itération indéfinie est appelée une boucle **while**. Elle a cette syntaxe :\n",
    "```python\n",
    "while condition:\n",
    "    # ici vient le code\n",
    "```\n",
    "\n",
    "C'est comme une instruction if mais sous forme de boucle. `condition` est, comme une instruction if, une expression booléenne. La boucle continue et le code est exécuté *tant que* la condition évalue à `True`.\n",
    "\n",
    "Certaines langues ont une boucle until – un bloc de code qui boucle *jusqu'à* ce qu'une condition soit `True`. Mais nous pouvons obtenir la même chose avec une boucle while. Pour la conjecture de Collatz, nous voulons boucler *jusqu'à* ce que `n == 1`, donc en Python, nous pouvons boucler *tant que* `n != 1`.\n",
    "\n",
    "*(En général : pour boucler jusqu'à ce que `condition` soit `True`, nous pouvons boucler tant que `not condition` est `True`)*"
   ]
  },
  {
   "cell_type": "code",
   "execution_count": 8,
   "metadata": {},
   "outputs": [
    {
     "data": {
      "text/plain": [
       "16"
      ]
     },
     "execution_count": 8,
     "metadata": {},
     "output_type": "execute_result"
    }
   ],
   "source": [
    "def etapes_collatz(n):\n",
    "    steps = 0\n",
    "    while n != 1:\n",
    "        steps += 1\n",
    "        if n % 2 == 0:\n",
    "            n //= 2\n",
    "        else:\n",
    "            n = 3*n + 1\n",
    "    return steps\n",
    "\n",
    "etapes_collatz(7)"
   ]
  },
  {
   "cell_type": "markdown",
   "metadata": {},
   "source": [
    "Les boucles while peuvent également être utilisées pour implémenter une itération définie. Ce modèle de code :\n",
    "\n",
    "```python\n",
    "for i in range(n):\n",
    "    # ici vient le code\n",
    "```\n",
    "\n",
    "peut également être écrit comme ceci :\n",
    "```python\n",
    "i = 0\n",
    "while i < n:\n",
    "    # ici vient le code\n",
    "    i += 1\n",
    "```\n",
    "\n",
    "C'est un peu plus compliqué et sujet aux erreurs, mais c'est essentiellement ce que fait réellement la boucle for. Les boucles for de Python sont assez flexibles, mais parfois il est plus facile de faire ce que nous voulons lorsque nous avons le contrôle supplémentaire d'une boucle while.\n",
    "\n",
    "### Boucles Infinies\n",
    "Il y a une chose dont vous devez vous méfier, en particulier lors de l'utilisation de boucles while : une boucle *infinie*. Si la condition de la boucle while n'atteint jamais `False`, alors la boucle continuera de s'exécuter jusqu'à ce que le programme soit interrompu.\n",
    "```python\n",
    "while 5 > 2:\n",
    "    # Ce code s'exécutera jusqu'à ce qu'il soit arrêté !\n",
    "```\n",
    "\n",
    "```python\n",
    "while True:\n",
    "    # Ce code aussi\n",
    "```\n",
    "\n",
    "Ces exemples peuvent sembler évidents, mais si nous avions utilisé `while n != 0` dans notre code de la conjecture de Collatz, nous aurions rencontré une boucle infinie : peu importe combien de fois nous appliquons les règles, nous n'obtiendrons jamais la valeur zéro, et cela pourrait ne pas être évident pour le programmeur.\n",
    "\n",
    "Si vous exécutez la cellule ci-dessous, vous devrez appuyer sur le bouton d'arrêt ■ pour terminer le processus. Il ne se terminera jamais de lui-même. Bien sûr, vous pourriez accidentellement écrire du code qui entre dans une boucle infinie, donc vous devez vous assurer de savoir comment gérer cela dans Jupyter. Essayez d'exécuter puis d'arrêter la cellule ci-dessous."
   ]
  },
  {
   "cell_type": "code",
   "execution_count": null,
   "metadata": {},
   "outputs": [],
   "source": [
    "# Attention : si vous exécutez cette cellule, rien ne semblera se passer – elle entrera dans une boucle infinie\n",
    "# Appuyez sur le bouton d'arrêt ■ dans la barre d'outils avec la cellule sélectionnée pour arrêter le processus\n",
    "def collatz_etapes_infini(n):\n",
    "    etapes = 0\n",
    "    while n != 0:\n",
    "        etapes += 1\n",
    "        if n % 2 == 0:\n",
    "            n //= 2\n",
    "        else:\n",
    "            n = 3*n + 1\n",
    "    return etapes\n",
    "\n",
    "collatz_etapes_infini(7)"
   ]
  },
  {
   "cell_type": "markdown",
   "metadata": {},
   "source": [
    "Il est possible d'écrire du code qui sort des boucles, et donc parfois nous utilisons délibérément une boucle infinie dont nous sortons plus tard. Nous reviendrons sur cette idée dans une section ultérieure.\n",
    "\n",
    "### Questions\n",
    "#### Quiz Interactif\n",
    "Comme d'habitude, exécutez la cellule ci-dessous pour répondre à quelques questions de compréhension du quiz."
   ]
  },
  {
   "cell_type": "code",
   "execution_count": null,
   "metadata": {},
   "outputs": [],
   "source": [
    "#%run ../scripts/questions_interactives ./questions/1.8.1q.txt\n",
    "from questions_interactives import run\n",
    "run(\"1.8.1q.txt\")"
   ]
  },
  {
   "cell_type": "markdown",
   "metadata": {},
   "source": [
    "#### Question 1 : Censure avec Boucle While\n",
    "Pouvez-vous écrire une boucle while qui censure toutes les voyelles d'une chaîne en minuscules ? Elle devrait fonctionner exactement comme les deux fonctions `censure_voyelles` que nous avons écrites ci-dessus qui utilisaient des boucles for. Pour un défi bonus, essayez de le faire *sans* vous référer à ce code."
   ]
  },
  {
   "cell_type": "code",
   "execution_count": 9,
   "metadata": {},
   "outputs": [
    {
     "name": "stdout",
     "output_type": "stream",
     "text": [
      "Exemples de tests pour la fonction censure_voyelles_boucle\n",
      "\n",
      "Test 1/5: censure_voyelles_boucle('bonjour') -> 'b*nj**r'\n",
      "Test 2/5: censure_voyelles_boucle('censure voyelles') -> 'c*ns*r* v*y*ll*s'\n",
      "Test 3/5: censure_voyelles_boucle('aaaaahhhhhh') -> '*****hhhhhh'\n",
      "Test 4/5: censure_voyelles_boucle('*****') -> '*****'\n",
      "Test 5/5: censure_voyelles_boucle('balivernes') -> 'b*l*v*rn*s'\n"
     ]
    }
   ],
   "source": [
    "#%run ../scripts/montrer_exemples.py ./questions/1.8/censure_voyelles_boucle\n",
    "from montrer_exemples import show\n",
    "show(\"censure_voyelles_boucle\")"
   ]
  },
  {
   "cell_type": "code",
   "execution_count": null,
   "metadata": {},
   "outputs": [],
   "source": [
    "def censure_voyelles_boucle(mot):\n",
    "    pass\n",
    "\n",
    "#%run -i ../scripts/testeur_de_fonction.py ./questions/1.8/censure_voyelles_boucle\n",
    "from testeur_de_fonction import run\n",
    "run(\"censure_voyelles_boucle\", globals())"
   ]
  },
  {
   "cell_type": "markdown",
   "metadata": {},
   "source": [
    "#### Question 2 : La Plus Grande Lettre\n",
    "Saviez-vous que vous pouvez comparer des chaînes de caractères en minuscules alphabétiquement tout comme nous comparons les nombres numériquement ? Par exemple :"
   ]
  },
  {
   "cell_type": "code",
   "execution_count": 10,
   "metadata": {},
   "outputs": [
    {
     "data": {
      "text/plain": [
       "True"
      ]
     },
     "execution_count": 10,
     "metadata": {},
     "output_type": "execute_result"
    }
   ],
   "source": [
    "\"z\" > \"a\""
   ]
  },
  {
   "cell_type": "code",
   "execution_count": 11,
   "metadata": {},
   "outputs": [
    {
     "data": {
      "text/plain": [
       "False"
      ]
     },
     "execution_count": 11,
     "metadata": {},
     "output_type": "execute_result"
    }
   ],
   "source": [
    "\"b\" > \"c\""
   ]
  },
  {
   "cell_type": "markdown",
   "metadata": {},
   "source": [
    "Armé de cette connaissance, écrivez une fonction qui trouve le plus grand caractère (alphabétiquement) dans une chaîne donnée. Si la chaîne est vide, retournez une chaîne vide.\n",
    "\n",
    "Pour l'instant, nous nous en tiendrons à des chaînes tout en minuscules. Techniquement, cette comparaison compare les valeurs numériques des caractères, et toutes les lettres majuscules viennent avant toutes les lettres minuscules, donc `\"Z\" < \"a\"` renvoie `True`. Mais vous n'avez pas besoin de vous en préoccuper pour l'exercice."
   ]
  },
  {
   "cell_type": "code",
   "execution_count": 12,
   "metadata": {},
   "outputs": [
    {
     "name": "stdout",
     "output_type": "stream",
     "text": [
      "Exemples de tests pour la fonction plus_grande_lettre\n",
      "\n",
      "Test 1/5: plus_grande_lettre('bonjour') -> 'u'\n",
      "Test 2/5: plus_grande_lettre('boucle while') -> 'w'\n",
      "Test 3/5: plus_grande_lettre('cheval') -> 'v'\n",
      "Test 4/5: plus_grande_lettre('foutaises') -> 'u'\n",
      "Test 5/5: plus_grande_lettre('balivernes') -> 'v'\n"
     ]
    }
   ],
   "source": [
    "#%run ../scripts/montrer_exemples.py ./questions/1.8/plus_grande_lettre\n",
    "from montrer_exemples import show\n",
    "show(\"plus_grande_lettre\")"
   ]
  },
  {
   "cell_type": "code",
   "execution_count": null,
   "metadata": {},
   "outputs": [],
   "source": [
    "def plus_grande_lettre(mot):\n",
    "    pass\n",
    "\n",
    "#%run -i ../scripts/testeur_de_fonction.py ./questions/1.8/plus_grande_lettre\n",
    "from testeur_de_fonction import run\n",
    "run(\"plus_grande_lettre\", globals())"
   ]
  }
 ],
 "metadata": {
  "kernelspec": {
   "display_name": "Python 3 (ipykernel)",
   "language": "python",
   "name": "python3"
  },
  "language_info": {
   "codemirror_mode": {
    "name": "ipython",
    "version": 3
   },
   "file_extension": ".py",
   "mimetype": "text/x-python",
   "name": "python",
   "nbconvert_exporter": "python",
   "pygments_lexer": "ipython3",
   "version": "3.10.12"
  }
 },
 "nbformat": 4,
 "nbformat_minor": 2
}
