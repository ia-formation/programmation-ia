{
 "cells": [
  {
   "cell_type": "markdown",
   "metadata": {},
   "source": [
    "## Section 1.6 – Fonctions Personnalisées\n",
    "### Écrire des Fonctions en Python\n",
    "Nous avons déjà discuté de l'utilité des fonctions dans le cours, et nous vous avons montré comment nous pourrions écrire notre propre version de la fonction `pow` qui ressemble à ceci :\n",
    "\n",
    "```python\n",
    "def pow(x, y):\n",
    "    return x ** y\n",
    "```\n",
    "\n",
    "Pour faciliter la référence, répétons la décomposition de chaque composant. La première ligne est appelée la **signature** :\n",
    "```python\n",
    "def pow(x, y):\n",
    "```\n",
    "* `def` \n",
    " * Ce mot-clé indique qu'il s'agit d'une *définition de fonction*\n",
    "* `pow`\n",
    " * Le nom de la fonction, c'est ce que nous appellerons plus tard\n",
    "* `(x, y)`\n",
    " * Nous listons tous les *paramètres* (entrées) de la fonction et leur donnons des noms de variables – nous pouvons les appeler comme nous le souhaitons\n",
    "* `:` \n",
    " * Ce deux-points indique le début d'un nouveau *bloc* de code\n",
    " * Au moins une, mais éventuellement plusieurs des lignes de code suivantes appartiendront à cette fonction\n",
    "\n",
    "Ajoutons maintenant la seconde ligne :\n",
    "```python\n",
    "def pow(x, y):\n",
    "    return x ** y\n",
    "```\n",
    "* `⇥` \n",
    " * Remarquez que cette ligne est *indentée* – il y a quatre espaces (ou un caractère *tabulation*) au début de cette ligne\n",
    " * Si une ligne se termine par un deux-points `:` alors la ligne suivante ***doit*** être indentée\n",
    " * Chaque ligne indentée est considérée comme faisant partie du même bloc de code – dans ce cas, partie de la même fonction\n",
    "* `return`\n",
    " * Ce mot-clé indique que nous terminons la fonction et que le résultat de l'évaluation de l'expression du côté droit sera *retourné* (produit en sortie)\n",
    "* `x ** y`\n",
    " * Enfin, c'est le calcul que la fonction effectuera avec les paramètres d'entrée `x` et `y`\n",
    " \n",
    "Voici une démonstration de cette fonction en action que vous pouvez exécuter et manipuler. J'ai renommé la fonction en `mon_pow` pour démontrer qu'il ne s'agit pas simplement de la même fonction intégrée `pow` :\n"
   ]
  },
  {
   "cell_type": "code",
   "execution_count": 1,
   "metadata": {
    "scrolled": true
   },
   "outputs": [
    {
     "data": {
      "text/plain": [
       "32"
      ]
     },
     "execution_count": 1,
     "metadata": {},
     "output_type": "execute_result"
    }
   ],
   "source": [
    "def mon_pow(x, y):\n",
    "    return x ** y\n",
    "\n",
    "mon_pow(2, 5)"
   ]
  },
  {
   "cell_type": "markdown",
   "metadata": {},
   "source": [
    "Remarquez que, comme les variables, les définitions de fonctions persistent entre les cellules Jupyter :"
   ]
  },
  {
   "cell_type": "code",
   "execution_count": 2,
   "metadata": {
    "scrolled": true
   },
   "outputs": [
    {
     "data": {
      "text/plain": [
       "1024"
      ]
     },
     "execution_count": 2,
     "metadata": {},
     "output_type": "execute_result"
    }
   ],
   "source": [
    "mon_pow(2, 10)"
   ]
  },
  {
   "cell_type": "markdown",
   "metadata": {},
   "source": [
    "### Plus d'Exemples\n",
    "Voici quelques exemples supplémentaires de fonctions personnalisées. La première prend un nombre de minutes et un nombre de secondes et retourne le nombre total de secondes :"
   ]
  },
  {
   "cell_type": "code",
   "execution_count": 3,
   "metadata": {
    "scrolled": true
   },
   "outputs": [
    {
     "data": {
      "text/plain": [
       "320"
      ]
     },
     "execution_count": 3,
     "metadata": {},
     "output_type": "execute_result"
    }
   ],
   "source": [
    "def total_secondes(minutes, secondes):\n",
    "    return minutes*60 + secondes\n",
    "\n",
    "total_secondes(5, 20)"
   ]
  },
  {
   "cell_type": "markdown",
   "metadata": {},
   "source": [
    "La fonction suivante est un peu plus compliquée. Remarquez deux choses :\n",
    "1. Nous pouvons avoir plusieurs lignes de code à l'intérieur d'une fonction tant qu'elles sont toutes indentées. Nous pouvons même assigner des variables et les utiliser.\n",
    "2. La syntaxe `\"\"\" ... \"\"\"` peut être utilisée pour un commentaire multiligne. Il est courant de commenter des fonctions plus compliquées comme celle-ci avec un commentaire multiligne juste après la *signature* :"
   ]
  },
  {
   "cell_type": "code",
   "execution_count": 4,
   "metadata": {
    "scrolled": true
   },
   "outputs": [
    {
     "data": {
      "text/plain": [
       "23"
      ]
     },
     "execution_count": 4,
     "metadata": {},
     "output_type": "execute_result"
    }
   ],
   "source": [
    "def annees_entre(date1, date2):\n",
    "    \"\"\" Calcule le nombre d'années entre deux dates, en arrondissant\n",
    "        Fonctionne uniquement pour les dates modernes !\n",
    "        \n",
    "        Suppose que les dates sont saisies sous forme de chaînes dans le format\n",
    "            jj/MM/aaaa\n",
    "        par ex. le 1er décembre 2019 est \"01/12/2019\"\n",
    "    \"\"\"\n",
    "    annee1 = int(date1[6:])\n",
    "    annee2 = int(date2[6:])\n",
    "    return abs(annee1 - annee2)\n",
    "\n",
    "annees_entre(\"01/05/2016\", \"30/12/1993\") "
   ]
  },
  {
   "cell_type": "markdown",
   "metadata": {},
   "source": [
    "### Portée\n",
    "Maintenant que nous utilisons des variables à l'intérieur des fonctions, nous devons parler de **portée**. Lorsque vous créez une nouvelle variable à l'intérieur d'une fonction, elle n'existe qu'*à l'intérieur* de cette fonction. À l'extérieur de la fonction, ce sera comme si la variable n'avait jamais existé.\n",
    "\n",
    "Portez une attention particulière aux exemples de code suivants :\n"
   ]
  },
  {
   "cell_type": "code",
   "execution_count": 5,
   "metadata": {
    "scrolled": true
   },
   "outputs": [
    {
     "data": {
      "text/plain": [
       "20"
      ]
     },
     "execution_count": 5,
     "metadata": {},
     "output_type": "execute_result"
    }
   ],
   "source": [
    "def additionner(x, y):\n",
    "    z = x + y\n",
    "    return z\n",
    "\n",
    "additionner(10, 10)"
   ]
  },
  {
   "cell_type": "markdown",
   "metadata": {},
   "source": [
    "Si nous interrogeons la valeur de `z` après avoir exécuté la fonction `additionner`, nous obtiendrons une erreur :"
   ]
  },
  {
   "cell_type": "code",
   "execution_count": 6,
   "metadata": {
    "scrolled": true
   },
   "outputs": [
    {
     "ename": "NameError",
     "evalue": "name 'z' is not defined",
     "output_type": "error",
     "traceback": [
      "\u001b[0;31m---------------------------------------------------------------------------\u001b[0m",
      "\u001b[0;31mNameError\u001b[0m                                 Traceback (most recent call last)",
      "Cell \u001b[0;32mIn[6], line 6\u001b[0m\n\u001b[1;32m      3\u001b[0m     \u001b[38;5;28;01mreturn\u001b[39;00m z\n\u001b[1;32m      5\u001b[0m additionner(\u001b[38;5;241m10\u001b[39m, \u001b[38;5;241m10\u001b[39m)\n\u001b[0;32m----> 6\u001b[0m \u001b[43mz\u001b[49m\n",
      "\u001b[0;31mNameError\u001b[0m: name 'z' is not defined"
     ]
    }
   ],
   "source": [
    "def additionner(x, y):\n",
    "    z = x + y\n",
    "    return z\n",
    "\n",
    "additionner(10, 10)\n",
    "z"
   ]
  },
  {
   "cell_type": "markdown",
   "metadata": {},
   "source": [
    "Ci-dessous, un exemple très similaire mais avec la variable appelée `elephant` au lieu de `z`. Cette fois, la variable a une valeur avant que la fonction soit définie. Remarquez que *ni* définir *ni* appeler la fonction ne change la valeur de `elephant` lorsque nous l'interrogeons à la fin."
   ]
  },
  {
   "cell_type": "code",
   "execution_count": 7,
   "metadata": {
    "scrolled": true
   },
   "outputs": [
    {
     "data": {
      "text/plain": [
       "100"
      ]
     },
     "execution_count": 7,
     "metadata": {},
     "output_type": "execute_result"
    }
   ],
   "source": [
    "elephant = 100\n",
    "\n",
    "def additionner(x, y):\n",
    "    elephant = x + y\n",
    "    return elephant\n",
    "\n",
    "additionner(10, 10)\n",
    "elephant"
   ]
  },
  {
   "cell_type": "markdown",
   "metadata": {},
   "source": [
    "⚠️ *Note avancée :* il est possible d'*accéder* à une variable *à l'intérieur* d'une fonction qui se trouve dans la portée *externe*, comme le démontre l'exemple suivant. Cependant, cela est généralement considéré comme une pratique moins qu'idéale. Cela ressemble au concept d'une *variable globale*."
   ]
  },
  {
   "cell_type": "code",
   "execution_count": 8,
   "metadata": {},
   "outputs": [
    {
     "data": {
      "text/plain": [
       "120"
      ]
     },
     "execution_count": 8,
     "metadata": {},
     "output_type": "execute_result"
    }
   ],
   "source": [
    "orangoutan = 100\n",
    "\n",
    "def additionner(x, y):\n",
    "    resultat = x + y + orangoutan\n",
    "    return resultat\n",
    "\n",
    "additionner(10, 10)"
   ]
  },
  {
   "cell_type": "markdown",
   "metadata": {},
   "source": [
    "Il n'y a pas assez d'espace ici pour discuter de toutes les subtilités de savoir quand et si c'est une bonne ou une mauvaise idée. Mais gardez à l'esprit que vous pourriez toujours ajouter la variable supplémentaire à la liste des paramètres, et cela peut rendre le code plus clair (si vous avez utilisé de meilleurs noms de variables que ceux que j'ai ici)."
   ]
  },
  {
   "cell_type": "code",
   "execution_count": 9,
   "metadata": {},
   "outputs": [
    {
     "data": {
      "text/plain": [
       "120"
      ]
     },
     "execution_count": 9,
     "metadata": {},
     "output_type": "execute_result"
    }
   ],
   "source": [
    "orangoutan = 100\n",
    "\n",
    "def additionner(x, y, orangoutan):\n",
    "    resultat = x + y + orangoutan\n",
    "    return resultat\n",
    "\n",
    "additionner(10, 10, orangoutan)"
   ]
  },
  {
   "cell_type": "markdown",
   "metadata": {},
   "source": [
    "#### Fonction Vide\n",
    "En Python, chaque ligne de code qui se termine par un `:` (comme une signature de fonction) *doit* être suivie d'au moins une ligne indentée. Si pour une raison quelconque nous voulons créer une fonction qui ne fait rien (peut-être pour y revenir plus tard), nous obtiendrons une erreur si nous écrivons ceci :"
   ]
  },
  {
   "cell_type": "code",
   "execution_count": 10,
   "metadata": {},
   "outputs": [
    {
     "ename": "IndentationError",
     "evalue": "expected an indented block after function definition on line 1 (1042750327.py, line 3)",
     "output_type": "error",
     "traceback": [
      "\u001b[0;36m  Cell \u001b[0;32mIn[10], line 3\u001b[0;36m\u001b[0m\n\u001b[0;31m    ne_rien_faire(10)\u001b[0m\n\u001b[0m    ^\u001b[0m\n\u001b[0;31mIndentationError\u001b[0m\u001b[0;31m:\u001b[0m expected an indented block after function definition on line 1\n"
     ]
    }
   ],
   "source": [
    "def ne_rien_faire(x):\n",
    "    \n",
    "ne_rien_faire(10)"
   ]
  },
  {
   "cell_type": "markdown",
   "metadata": {},
   "source": [
    "Nous pouvons donc remplir la fonction avec le mot `pass`. C'est \"pass\" comme dans \"Voulez-vous du gâteau ? Non, je passe mon tour.\", et non comme dans \"passer\" une variable."
   ]
  },
  {
   "cell_type": "code",
   "execution_count": null,
   "metadata": {},
   "outputs": [],
   "source": [
    "def ne_rien_faire(x):\n",
    "    pass\n",
    "\n",
    "ne_rien_faire(10)"
   ]
  },
  {
   "cell_type": "markdown",
   "metadata": {},
   "source": [
    "### Questions\n",
    "À vous de jouer. Vous avez deux séries de questions à compléter. La première est votre quiz interactif habituel, que vous pouvez prendre dans la cellule ci-dessous."
   ]
  },
  {
   "cell_type": "code",
   "execution_count": null,
   "metadata": {
    "scrolled": true
   },
   "outputs": [],
   "source": [
    "from questions_interactives import run\n",
    "run(\"1.6.1q.txt\")"
   ]
  },
  {
   "cell_type": "markdown",
   "metadata": {},
   "source": [
    "#### Fonctions Personnalisées\n",
    "Une fois que vous aurez terminé le quiz, nous devons vous faire écrire vos propres fonctions ! Avec le temps, nous nous éloignerons des questions de compréhension dans les quiz et nous nous dirigerons vers plus de code écrit dans des fonctions comme ceci.\n",
    "\n",
    "Chaque question aura :\n",
    "* Une description de la fonction que vous devez écrire\n",
    "* Quelques exemples montrant comment votre fonction devrait fonctionner\n",
    "* Une fonction squelette que vous devez compléter\n",
    "\n",
    "Vous devez écrire votre code directement dans la cellule Jupyter. Lorsque vous exécutez la cellule (ctrl+retour), elle exécutera quelques tests automatisés sur votre fonction. Continuez à éditer votre code jusqu'à ce que tous les tests réussissent !\n",
    "\n",
    "Pour l'instant, ***n'utilisez pas*** de fonctionnalités de codage que nous n'avons pas couvertes jusqu'à ce point dans la formation ! Cela fait partie du défi. Peut-être savez-vous déjà écrire des instructions if, par exemple – et si c'est le cas, super ! Mais c'est pour la section suivante. Tous les exercices ici peuvent être complétés en utilisant uniquement la matière que nous avons couverte. La matière ultérieure pourrait rendre la tâche trop facile, alors où est le plaisir dans cela ? La façon de vous démarquer est de le faire *sans* utiliser ces fonctionnalités.\n",
    "\n",
    "La fonction squelette inclura la *signature* de la fonction, puis le mot `pass` pour créer une fonction vide valide. Vous pouvez immédiatement exécuter les tests pour voir ce qui se passe. Remplacez le mot `pass` par votre code.\n",
    "\n",
    "#### Question 1 : Additionner\n",
    "Pour cette première question, nous voulons que vous créiez une fonction appelée `additionner` qui fait la somme deux entrées et retourne le résultat. En d'autres termes, `additionner` est à `+` ce que `pow` est à `**`. Quelques exemples sont montrés ci-dessous :"
   ]
  },
  {
   "cell_type": "code",
   "execution_count": 11,
   "metadata": {},
   "outputs": [
    {
     "name": "stdout",
     "output_type": "stream",
     "text": [
      "Exemples de tests pour la fonction additionner\n",
      "\n",
      "Test 1/5: additionner(1, 1) -> 2\n",
      "Test 2/5: additionner(1, 0) -> 1\n",
      "Test 3/5: additionner(0, 1) -> 1\n",
      "Test 4/5: additionner(0, 0) -> 0\n",
      "Test 5/5: additionner(-1, 1) -> 0\n"
     ]
    }
   ],
   "source": [
    "from montrer_exemples import show\n",
    "show(\"additionner\")"
   ]
  },
  {
   "cell_type": "code",
   "execution_count": null,
   "metadata": {
    "scrolled": false
   },
   "outputs": [],
   "source": [
    "def additionner(x, y):\n",
    "    # remplacez la ligne ci-dessous par votre code\n",
    "    pass\n",
    "\n",
    "# ne changez pas les lignes ci-dessous, elles exécutent les tests\n",
    "from testeur_de_fonction import run\n",
    "run(\"additionner\", globals())"
   ]
  },
  {
   "cell_type": "markdown",
   "metadata": {},
   "source": [
    "#### Question 2 : Échanger les Extrémités\n",
    "Écrivez une fonction appelée `echanger_extremites` qui échangera les caractères aux deux extrémités d'une chaîne et retournera le résultat.\n",
    "\n",
    "Vous pouvez supposer que la chaîne aura toujours une longueur de 2 ou plus.\n",
    "\n",
    "Vous devrez utiliser l'indexation et la concaténation de chaînes pour compléter cette fonction. Reportez-vous à la section sur les chaînes (section 1.4) si nécessaire.\n",
    "\n",
    "Comme d'habitude, des exemples d'entrées sont montrés ci-dessous."
   ]
  },
  {
   "cell_type": "code",
   "execution_count": 12,
   "metadata": {},
   "outputs": [
    {
     "name": "stdout",
     "output_type": "stream",
     "text": [
      "Exemples de tests pour la fonction echanger_extremites\n",
      "\n",
      "Test 1/5: echanger_extremites('bonjour') -> 'ronjoub'\n",
      "Test 2/5: echanger_extremites('ronjoub') -> 'bonjour'\n",
      "Test 3/5: echanger_extremites('tt') -> 'tt'\n",
      "Test 4/5: echanger_extremites('15') -> '51'\n",
      "Test 5/5: echanger_extremites('une chaîne raisonnablement longue') -> 'ene chaîne raisonnablement longuu'\n"
     ]
    }
   ],
   "source": [
    "#%run ../scripts/montrer_exemples.py ./questions/1.6/echanger_extremites\n",
    "from montrer_exemples import show\n",
    "show(\"echanger_extremites\")"
   ]
  },
  {
   "cell_type": "code",
   "execution_count": null,
   "metadata": {},
   "outputs": [],
   "source": [
    "def echanger_extremites(s):\n",
    "    pass\n",
    "\n",
    "#%run -i ../scripts/testeur_de_fonction.py ./questions/1.6/echanger_extremites\n",
    "from testeur_de_fonction import run\n",
    "run(\"echanger_extremites\", globals())"
   ]
  },
  {
   "cell_type": "markdown",
   "metadata": {},
   "source": [
    "#### Question 3 : De 24 à 12 Heures\n",
    "Créez une fonction qui convertit une heure écrite en horloge de 24 heures en horloge de 12 heures. Donc `15` devrait retourner `3`, et `3` devrait retourner `3`. Les noms de fonctions peuvent contenir des chiffres, mais *ne peuvent pas commencer* par un chiffre. Ainsi, la fonction s'appellera `convertir24en12`. Les exemples d'entrées habituels sont montrés ci-dessous.\n",
    "\n",
    "*Indice : rappelez-vous l'opération **modulo** d'une section précédente*"
   ]
  },
  {
   "cell_type": "code",
   "execution_count": 13,
   "metadata": {},
   "outputs": [
    {
     "name": "stdout",
     "output_type": "stream",
     "text": [
      "Exemples de tests pour la fonction convertir24en12\n",
      "\n",
      "Test 1/5: convertir24en12(15) -> 3\n",
      "Test 2/5: convertir24en12(3) -> 3\n",
      "Test 3/5: convertir24en12(23) -> 11\n",
      "Test 4/5: convertir24en12(1) -> 1\n",
      "Test 5/5: convertir24en12(0) -> 12\n"
     ]
    }
   ],
   "source": [
    "#%run ../scripts/montrer_exemples.py ./questions/1.6/convertir24en12\n",
    "from montrer_exemples import show\n",
    "show(\"convertir24en12\")"
   ]
  },
  {
   "cell_type": "code",
   "execution_count": null,
   "metadata": {
    "scrolled": false
   },
   "outputs": [],
   "source": [
    "def convertir24en12(heure):\n",
    "    pass\n",
    "\n",
    "#%run -i ../scripts/testeur_de_fonction.py ./questions/1.6/convertir24en12\n",
    "from testeur_de_fonction import run\n",
    "run(\"convertir24en12\", globals())\n"
   ]
  }
 ],
 "metadata": {
  "kernelspec": {
   "display_name": "Python 3 (ipykernel)",
   "language": "python",
   "name": "python3"
  },
  "language_info": {
   "codemirror_mode": {
    "name": "ipython",
    "version": 3
   },
   "file_extension": ".py",
   "mimetype": "text/x-python",
   "name": "python",
   "nbconvert_exporter": "python",
   "pygments_lexer": "ipython3",
   "version": "3.10.12"
  }
 },
 "nbformat": 4,
 "nbformat_minor": 2
}
