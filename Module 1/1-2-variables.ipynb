{
 "cells": [
  {
   "cell_type": "markdown",
   "metadata": {},
   "source": [
    "## Section 1.2 – Variables\n",
    "### Calculs Longs\n",
    "La dernière fois, nous avons examiné les expressions, de petits blocs de code que nous pouvons évaluer pour produire une valeur, comme `2 + 3` ou `Vrai ou Faux`."
   ]
  },
  {
   "cell_type": "code",
   "execution_count": 1,
   "metadata": {},
   "outputs": [
    {
     "data": {
      "text/plain": [
       "5"
      ]
     },
     "execution_count": 1,
     "metadata": {},
     "output_type": "execute_result"
    }
   ],
   "source": [
    "2 + 3"
   ]
  },
  {
   "cell_type": "code",
   "execution_count": 2,
   "metadata": {},
   "outputs": [
    {
     "data": {
      "text/plain": [
       "True"
      ]
     },
     "execution_count": 2,
     "metadata": {},
     "output_type": "execute_result"
    }
   ],
   "source": [
    "True or False"
   ]
  },
  {
   "cell_type": "markdown",
   "metadata": {},
   "source": [
    "Mais parfois, nous devons calculer quelque chose de plus compliqué. Pour rappel, nous avons mentionné dans le cours que j'évaluais les options alimentaires pour mon énorme chien.\n",
    "\n",
    "Les directives sur le côté de son sac actuel de nourriture indiquent que pour un chien de son âge, il devrait manger **100g de nourriture par jour par 10kg de poids corporel**. Étant donné qu'il pèse 70kg, cela signifie qu'il devrait manger 700g de nourriture par jour.\n",
    "\n",
    "Malheureusement, il a montré des signes d'allergies alimentaires, donc je voudrais essayer une autre source de protéines. Je sais avec certitude qu'il n'est *pas* allergique aux œufs. Bien sûr, ce ne serait pas un régime équilibré, mais combien d'œufs aurait-il besoin de manger par jour pour répondre à son besoin quotidien en calories ? *Remarque : ne nourrissez pas un chien uniquement avec des œufs ! Parlez à votre vétérinaire des besoins nutritionnels.*\n",
    "\n",
    "Je sais que sa nourriture actuelle fournit 3600kcal/kg. Un œuf moyen est d'environ 60kcal. Alors, combien d'œufs par jour aurait-il besoin de manger ?\n",
    "\n",
    "Nous pourrions résoudre cela dans une longue expression arithmétique, mais cela ne serait pas très amusant."
   ]
  },
  {
   "cell_type": "code",
   "execution_count": 3,
   "metadata": {},
   "outputs": [
    {
     "data": {
      "text/plain": [
       "42.0"
      ]
     },
     "execution_count": 3,
     "metadata": {},
     "output_type": "execute_result"
    }
   ],
   "source": [
    "70 / 10 * 100 / 1000 * 3600 / 60"
   ]
  },
  {
   "cell_type": "markdown",
   "metadata": {},
   "source": [
    "La réponse que j'ai obtenue est de 42 œufs. *Remarque : encore une fois - ne nourrissez pas votre chien avec 42 œufs en une journée.*\n",
    "\n",
    "*Pouvez-vous suivre ce qui se passe là-bas ?*\n",
    "\n",
    "À quel point suis-je sûr que la réponse est correcte, ou ai-je pu faire une erreur ? <br>\n",
    "Si je note cela quelque part et que j'y reviens plus tard, aurai-je une idée de ce qui se passe ?<br>\n",
    "Et si je veux changer quelque chose - calculer cela pour un autre chien, ou un œuf de taille différente - que dois-je modifier ?"
   ]
  },
  {
   "cell_type": "markdown",
   "metadata": {},
   "source": [
    "### Variables\n",
    "Heureusement, nous pouvons grandement améliorer cette situation en utilisant des **variables**. Une variable est une valeur nommée. Vous pouvez créer des variables avec presque tous les noms que vous souhaitez, définir leurs valeurs, les modifier et les utiliser dans d'autres expressions. Les variables sont une partie essentielle de la programmation, elles :\n",
    "1. Rendent le code plus facile à lire\n",
    "2. Rendent le code plus facile à modifier\n",
    "3. Permettent un code qui serait impossible en tant qu'expression unique\n",
    "\n",
    "En faisant le lien avec l'introduction de la section sur les expressions, les variables nous permettent de séparer les **données** des **instructions**."
   ]
  },
  {
   "cell_type": "markdown",
   "metadata": {},
   "source": [
    "Pour créer une nouvelle variable en Python appelée `poids` avec une valeur égale à `70`, nous écrivons :\n",
    "```python\n",
    "poids = 70\n",
    "```\n",
    "\n",
    "Ceci est appelé **affectation**, et est un exemple de **déclaration**. Contrairement aux expressions, les déclarations ne produisent pas de valeur résultante. Remarquez que lorsque nous exécutons une cellule contenant une expression dans Jupyter, nous obtenons une étiquette qui dit `Out[x]:`"
   ]
  },
  {
   "cell_type": "code",
   "execution_count": 4,
   "metadata": {},
   "outputs": [
    {
     "data": {
      "text/plain": [
       "70"
      ]
     },
     "execution_count": 4,
     "metadata": {},
     "output_type": "execute_result"
    }
   ],
   "source": [
    "70"
   ]
  },
  {
   "cell_type": "markdown",
   "metadata": {},
   "source": [
    "`Out` est l'abréviation de sortie. La sortie de l'expression `70` est simplement `70`. La sortie de `70 + 1` est `71`.\n",
    "\n",
    "La cellule suivante n'a pas de ligne de sortie :"
   ]
  },
  {
   "cell_type": "code",
   "execution_count": 5,
   "metadata": {},
   "outputs": [],
   "source": [
    "poids = 70"
   ]
  },
  {
   "cell_type": "markdown",
   "metadata": {},
   "source": [
    "Non pas parce qu'il n'a pas fonctionné correctement - vous pouvez essayer de l'exécuter autant de fois que vous le souhaitez. Il n'a tout simplement pas produit de sortie.\n",
    "* Nous pouvons **évaluer** une **expression** pour obtenir une sortie\n",
    "* Nous pouvons **exécuter** une **déclaration** pour *faire quelque chose*\n",
    "\n",
    "#### Affectations\n",
    "Le côté gauche d'une affectation est un **nom** de variable. Le côté droit est **n'importe quelle expression**.\n",
    "\n",
    "Ainsi, la déclaration \n",
    "```python\n",
    "poids = 70\n",
    "``` \n",
    "*attribue* la valeur `70` au nom `poids`. Si nous utilisons `poids` dans une expression ultérieure, cela agira comme si nous avions écrit la valeur `70`."
   ]
  },
  {
   "cell_type": "code",
   "execution_count": 6,
   "metadata": {},
   "outputs": [
    {
     "data": {
      "text/plain": [
       "7.0"
      ]
     },
     "execution_count": 6,
     "metadata": {},
     "output_type": "execute_result"
    }
   ],
   "source": [
    "poids = 70\n",
    "poids / 10"
   ]
  },
  {
   "cell_type": "markdown",
   "metadata": {},
   "source": [
    "La sortie de `poids / 10` est `7.0` — *remarque : nous expliquerons pourquoi cela indique 7.0 au lieu de 7 dans la section suivante.*\n",
    "\n",
    "Remarquez dans la cellule ci-dessus que nous pouvons exécuter plusieurs lignes de code successivement en les écrivant les unes après les autres. Nous n'avons jamais eu l'occasion de faire cela auparavant parce que nous examinions toujours l'évaluation des expressions, et nous voulions voir le résultat - il serait perdu dans Jupyter si nous exécutions plusieurs expressions l'une après l'autre, comme vous pouvez le voir dans la cellule suivante :"
   ]
  },
  {
   "cell_type": "code",
   "execution_count": 7,
   "metadata": {},
   "outputs": [
    {
     "data": {
      "text/plain": [
       "4"
      ]
     },
     "execution_count": 7,
     "metadata": {},
     "output_type": "execute_result"
    }
   ],
   "source": [
    "5 + 2\n",
    "7 - 3"
   ]
  },
  {
   "cell_type": "markdown",
   "metadata": {},
   "source": [
    "Remarquez que seul le second résultat est affiché dans Jupyter, le résultat de `5 + 2` se *“perd”* simplement. Mais le vrai code est essentiellement juste une séquence de *déclarations*, donc il est logique d'en exécuter plusieurs, l'une après l'autre.\n",
    "\n",
    "Tout ce que vous avez appris sur les expressions reste utile car les expressions sont utilisées *à l'intérieur* des déclarations. Le côté droit d'une affectation peut être *n'importe quelle expression*. Par exemple :"
   ]
  },
  {
   "cell_type": "code",
   "execution_count": 8,
   "metadata": {},
   "outputs": [],
   "source": [
    "bool_variable = True and False"
   ]
  },
  {
   "cell_type": "markdown",
   "metadata": {},
   "source": [
    "Encore une fois, cette ligne ne produit pas de sortie, mais le côté droit (après le `=`) est une expression qui est *évaluée* puis le résultat est stocké dans la variable appelée `bool_variable`.\n",
    "\n",
    "Pouvez-vous trouver comment faire afficher la valeur de `bool_variable` dans la cellule ci-dessous ? Essayez :"
   ]
  },
  {
   "cell_type": "code",
   "execution_count": null,
   "metadata": {},
   "outputs": [],
   "source": []
  },
  {
   "cell_type": "markdown",
   "metadata": {},
   "source": [
    "(Sélectionnez le texte ou double-cliquez pour voir la réponse : <span style=\"color: black; background: black\">Il suffit d'écrire le nom de la variable tout seul !</span>)"
   ]
  },
  {
   "cell_type": "markdown",
   "metadata": {},
   "source": [
    "#### Un Meilleur Calcul Long\n",
    "\n",
    "Voici donc une autre version du calcul de nourriture que j'ai fait plus tôt, cette fois en utilisant des variables. Au début, cela semblera être une quantité intimidante de code à afficher en une seule fois. Mais il est vraiment important de lire attentivement chaque ligne, une par une, et de voir si vous pouvez comprendre ce qu'elle fait avant de passer à la suivante."
   ]
  },
  {
   "cell_type": "code",
   "execution_count": 9,
   "metadata": {},
   "outputs": [
    {
     "data": {
      "text/plain": [
       "42.0"
      ]
     },
     "execution_count": 9,
     "metadata": {},
     "output_type": "execute_result"
    }
   ],
   "source": [
    "poids = 70\n",
    "nourriture_quotidienne_par_10kg = 100\n",
    "kcal_par_kg_nourriture = 3600\n",
    "kcal_par_oeuf = 60\n",
    "\n",
    "grammes_nourriture_par_jour = (poids / 10) * nourriture_quotidienne_par_10kg\n",
    "kg_nourriture_par_jour = grammes_nourriture_par_jour / 1000\n",
    "kcal_par_jour = kg_nourriture_par_jour * kcal_par_kg_nourriture\n",
    "nombre_d_oeufs = kcal_par_jour / kcal_par_oeuf\n",
    "\n",
    "nombre_d_oeufs"
   ]
  },
  {
   "cell_type": "markdown",
   "metadata": {},
   "source": [
    "La dernière ligne de cette cellule indique à Jupyter d'afficher la valeur de la variable `nombre_d_oeufs` dans la sortie de la cellule – c'est une *expression* contenant juste la variable `nombre_d_oeufs`.\n",
    "\n",
    "Ce code est beaucoup plus long que la version que nous avions avant ! À première vue, il pourrait sembler *plus* déroutant. Mais si vous le lisez attentivement, et lisez les noms des variables, vous devriez pouvoir comprendre ce qui se passe.\n",
    "\n",
    "Maintenant, il est incroyablement facile de changer le calcul. Peut-être voulons-nous essayer d'utiliser de gros œufs, qui ont environ 72 calories chacun. Ou peut-être serions-nous curieux de savoir comment le nombre final changerait pour un chien pesant 10kg. Ces changements sont faciles à effectuer en changeant les premières lignes, et nous pouvons réexécuter la cellule pour réutiliser instantanément la même logique. Essayez de changer ces valeurs maintenant, combien de gros œufs mon chien nécessiterait-il par jour ?\n",
    "\n",
    "#### Lisibilité et Commentaires\n",
    "Les noms de variables n'importent pas pour Python, ils sont juste pour les lecteurs humains. Vous pourriez être tenté d'utiliser n'importe quel espace réservé, comme `a` ou `x` pour nos variables. En fait, la plupart des programmeurs le feront de temps en temps. Mais utiliser des noms descriptifs rend le code beaucoup plus facile à lire, donc vous devriez toujours essayer d'utiliser des noms de variables lisibles par l'homme.\n",
    "\n",
    "Nous pouvons rendre le code *encore plus facile* à lire en ajoutant des **commentaires**. Tout ce qui est écrit après un symbole dièse `#` sera ignoré par Python – comme les noms de variables, il est seulement là pour les lecteurs humains.\n",
    "\n",
    "```python\n",
    "# ceci est un commentaire, il sera ignoré, la ligne suivante est normale\n",
    "ma_variable = 2 + 2\n",
    "```\n",
    "\n",
    "Nous écrivons normalement des commentaires sur la ligne *au-dessus* de la ligne à laquelle ils se réfèrent, plutôt que sur la même ligne que le code – cela rend plus facile pour les personnes qui utilisent des lecteurs d'écran de lire les commentaires. Cependant, il est possible d'écrire un commentaire à la fin d'une ligne.\n",
    "\n",
    "```python\n",
    "ma_variable = 2 + 2    # évitez d'écrire des commentaires comme cela si possible, mais cela fonctionnera\n",
    "```\n",
    "\n",
    "J'ai ajouté des commentaires à mon code précédent pour expliquer le but de chaque variable :"
   ]
  },
  {
   "cell_type": "code",
   "execution_count": 10,
   "metadata": {},
   "outputs": [
    {
     "data": {
      "text/plain": [
       "42.0"
      ]
     },
     "execution_count": 10,
     "metadata": {},
     "output_type": "execute_result"
    }
   ],
   "source": [
    "# poids en kg\n",
    "poids = 70\n",
    "# la quantité quotidienne de nourriture actuelle nécessaire par 10 kg de poids de chien\n",
    "nourriture_quotidienne_par_10kg = 100\n",
    "# les calories par kg de nourriture actuelle\n",
    "kcal_par_kg_nourriture = 3600\n",
    "# les calories par œuf\n",
    "kcal_par_oeuf = 60\n",
    "\n",
    "# calculer le nombre d'œufs nécessaires pour répondre aux calories quotidiennes\n",
    "grammes_nourriture_par_jour = (poids / 10) * nourriture_quotidienne_par_10kg\n",
    "kg_nourriture_par_jour = grammes_nourriture_par_jour / 1000\n",
    "kcal_par_jour = kg_nourriture_par_jour * kcal_par_kg_nourriture\n",
    "nombre_d_oeufs = kcal_par_jour / kcal_par_oeuf\n",
    "\n",
    "# afficher le nombre d'œufs à Jupyter\n",
    "nombre_d_oeufs"
   ]
  },
  {
   "cell_type": "markdown",
   "metadata": {},
   "source": [
    "##### Note Importante\n",
    "**Utilisez les commentaires de manière réfléchie.** Si vous attendez que quelqu'un d'autre lise votre code, alors vous devriez utiliser des commentaires pour les guider. Même si vous ne vous attendez pas à ce que quelqu'un d'autre lise votre code, vous pourriez vouloir écrire des commentaires pour *une future version de vous-même* ! Il est facile d'oublier ce que nous essayions de faire dans un code écrit il y a des mois ou des années. Bien utilisés, les commentaires peuvent vous guider à travers un code complexe et vous faire gagner beaucoup de temps en essayant de comprendre *quoi* quelque chose fait, et *pourquoi*.\n",
    "\n",
    "**Cependant**, l'objectif est un code *lisible*, pas *beaucoup de commentaires*. Vous pouvez supposer que le lecteur sait lire et écrire un code normal. Il existe de nombreuses façons de rendre le code lisible, et votre première priorité devrait toujours être de **nommer les variables de manière sensée**. Trop de commentaires rendront le code plus difficile à lire, donc vous n'avez pas besoin de commenter les lignes de code qui sont évidentes pour un autre programmeur, et vous n'avez certainement pas besoin de commenter *chaque* ligne de code."
   ]
  },
  {
   "cell_type": "markdown",
   "metadata": {},
   "source": [
    "#### Variables\n",
    "La raison pour laquelle on les appelle *variables* est que la valeur d'un nom particulier peut être changée *à l'intérieur* du code lui-même. Supposons que le nombre de grammes de nourriture par jour est censé diminuer de 5% chaque année à mesure que mon chien vieillit. Nous pouvons calculer le résultat après 3 ans en utilisant le code suivant :"
   ]
  },
  {
   "cell_type": "code",
   "execution_count": 11,
   "metadata": {},
   "outputs": [
    {
     "data": {
      "text/plain": [
       "600.1625"
      ]
     },
     "execution_count": 11,
     "metadata": {},
     "output_type": "execute_result"
    }
   ],
   "source": [
    "# poids en kg\n",
    "POIDS = 70\n",
    "# la quantité quotidienne de nourriture actuelle nécessaire par 10 kg de poids de chien\n",
    "NOURRITURE_QUOTIDIENNE_PAR_10KG = 100\n",
    "# la réduction par année en pourcentage\n",
    "REDUCTION_PAR_AN = 5\n",
    "\n",
    "\n",
    "# quantité de nourriture actuelle\n",
    "grammes_nourriture_par_jour = (POIDS / 10) * NOURRITURE_QUOTIDIENNE_PAR_10KG\n",
    "\n",
    "modificateur = 1 - (REDUCTION_PAR_AN / 100)\n",
    "\n",
    "# après 1 an\n",
    "grammes_nourriture_par_jour = grammes_nourriture_par_jour * modificateur\n",
    "\n",
    "# après 2 ans\n",
    "grammes_nourriture_par_jour = grammes_nourriture_par_jour * modificateur\n",
    "\n",
    "# après 3 ans\n",
    "grammes_nourriture_par_jour = grammes_nourriture_par_jour * modificateur\n",
    "\n",
    "grammes_nourriture_par_jour"
   ]
  },
  {
   "cell_type": "markdown",
   "metadata": {},
   "source": [
    "Remarquez que les trois premières variables : `POIDS`, `NOURRITURE_QUOTIDIENNE_PAR_10KG`, et `REDUCTION_PAR_AN` n'ont pas changé après avoir été définies, nous leur donnons seulement des noms parce que cela rend le code plus facile à lire et à modifier. Ces variables représentent des options de l'utilisateur, donc dans ce code, il serait étrange que le code les change plus tard. Certaines langues permettent de spécifier qu'une variable ne peut pas être modifiée, et cela s'appelle une **constante**. Python n'a pas de syntaxe spéciale pour les constantes – il ne empêche pas le code ultérieur de changer ces valeurs. Mais si nous allons utiliser une variable *comme* c'est une constante, il est relativement standard d'écrire son nom en lettres majuscules.\n",
    "\n",
    "Vous en verrez plus dans les quiz de cette section, ci-dessous."
   ]
  },
  {
   "cell_type": "markdown",
   "metadata": {},
   "source": [
    "#### Questions\n",
    "En parlant du loup... Exécutez les cellules ci-dessous pour obtenir quelques questions sur les variables.\n",
    "##### Partie Un\n",
    "Dans ce quiz, vous suivrez les valeurs des variables. Encore une fois, le but est de tester votre capacité à traiter manuellement le code, et non pas de tester vos compétences en mathématiques ou votre mémoire – vous pouvez utiliser une calculatrice et/ou suivre les variables sur papier si vous en avez besoin. De plus, comme il s'agit d'exemples générés automatiquement pour la démonstration, veuillez ignorer les noms de variables dénués de sens !"
   ]
  },
  {
   "cell_type": "code",
   "execution_count": null,
   "metadata": {
    "scrolled": false
   },
   "outputs": [],
   "source": [
    "from questions_interactives import run\n",
    "run(\"1.2.1q.txt\")"
   ]
  },
  {
   "cell_type": "markdown",
   "metadata": {},
   "source": [
    "##### Partie Deux\n",
    "Dans ce quiz, nous inversons les rôles : le quiz vous indiquera le résultat de l'exécution d'un code, mais le nom d'une variable sera manquant, et vous devrez déterminer ce que cela devrait être.\n",
    "\n",
    "Remarquez que le nombre de traits de soulignement indique la longueur que doit avoir le blanc. Par exemple, si la question dit :\n",
    "```\n",
    "Le résultat de l'exécution du code suivant est 5.\n",
    "Que faut-il insérer dans l'espace vide ?\n",
    "oeuf = 2\n",
    "chien = 3\n",
    "oeuf + ___\n",
    "```\n",
    "\n",
    "Alors vous pouvez voir d'après `___` que la réponse est de trois caractères de long (sélectionnez les caractères avec votre souris si vous avez du mal à juger de la longueur). Donc, même si une réponse de `3` donne *techniquement* le bon résultat, ce n'est pas dans l'esprit de la question. Ici, vous êtes censé utiliser un nom de variable, et la bonne réponse est `chien`."
   ]
  },
  {
   "cell_type": "code",
   "execution_count": null,
   "metadata": {
    "scrolled": false
   },
   "outputs": [],
   "source": [
    "from questions_interactives import run\n",
    "run(\"1.2.2q.txt\")"
   ]
  }
 ],
 "metadata": {
  "kernelspec": {
   "display_name": "Python 3 (ipykernel)",
   "language": "python",
   "name": "python3"
  },
  "language_info": {
   "codemirror_mode": {
    "name": "ipython",
    "version": 3
   },
   "file_extension": ".py",
   "mimetype": "text/x-python",
   "name": "python",
   "nbconvert_exporter": "python",
   "pygments_lexer": "ipython3",
   "version": "3.10.12"
  }
 },
 "nbformat": 4,
 "nbformat_minor": 2
}
