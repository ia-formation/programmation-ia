{
 "cells": [
  {
   "cell_type": "markdown",
   "metadata": {},
   "source": [
    "## 1.4 Chaînes de Caractères\n",
    "### Plus de Types\n",
    "Nous utilisons également beaucoup de texte en programmation, et nous avons un nom spécial pour ce type de données ; il s'appelle une **chaîne de caractères**.\n",
    "\n",
    "Les chaînes de caractères en Python sont écrites avec une paire de symboles de guillemets. Vous pouvez utiliser `\"` ou `'`, tant que vous utilisez le même au début et à la fin de la chaîne. Python est assez intelligent pour vous permettre d'utiliser des guillemets simples à l'intérieur d'une chaîne terminée par des guillemets doubles, ou vice versa.\n",
    "\n",
    "Voici quelques chaînes de caractères valides en Python :\n",
    "```python\n",
    "\"Ceci est une chaîne\"\n",
    "'Ceci est aussi une chaîne'\n",
    "\"N'est-ce pas merveilleux que nous puissions utiliser des guillemets simples à l'intérieur de guillemets doubles ?\"\n",
    "```\n",
    "\n",
    "Nous pouvons également effectuer certaines opérations sur les chaînes de caractères. Si nous ajoutons deux chaînes de caractères, elles sont *concaténées* :"
   ]
  },
  {
   "cell_type": "code",
   "execution_count": 1,
   "metadata": {},
   "outputs": [
    {
     "data": {
      "text/plain": [
       "'chaîne unchaîne deux'"
      ]
     },
     "execution_count": 1,
     "metadata": {},
     "output_type": "execute_result"
    }
   ],
   "source": [
    "\"chaîne un\" + \"chaîne deux\""
   ]
  },
  {
   "cell_type": "markdown",
   "metadata": {},
   "source": [
    "Remarquez que cette opération est littérale : elle n'insérera pas d'espace pour vous si vous n'en demandez pas !\n",
    "\n",
    "Nous pouvons aussi multiplier une chaîne de caractères par un nombre pour répéter plusieurs fois une chaîne :"
   ]
  },
  {
   "cell_type": "code",
   "execution_count": 2,
   "metadata": {},
   "outputs": [
    {
     "data": {
      "text/plain": [
       "'Cette formation est géniale ! Cette formation est géniale ! Cette formation est géniale ! Cette formation est géniale ! '"
      ]
     },
     "execution_count": 2,
     "metadata": {},
     "output_type": "execute_result"
    }
   ],
   "source": [
    "\"Cette formation est géniale ! \" * 4"
   ]
  },
  {
   "cell_type": "markdown",
   "metadata": {},
   "source": [
    "Nous pouvons *indexer* une chaîne de caractères en utilisant des crochets `[` et `]`. Il est courant en informatique de commencer à compter les séquences à partir de zéro, et non pas un. Donc, le premier caractère d'une chaîne est l'élément zéro, le deuxième caractère est l'élément un, et ainsi de suite. Donc :"
   ]
  },
  {
   "cell_type": "code",
   "execution_count": 3,
   "metadata": {},
   "outputs": [
    {
     "data": {
      "text/plain": [
       "'c'"
      ]
     },
     "execution_count": 3,
     "metadata": {},
     "output_type": "execute_result"
    }
   ],
   "source": [
    "\"chaîne\"[0]"
   ]
  },
  {
   "cell_type": "code",
   "execution_count": 4,
   "metadata": {},
   "outputs": [
    {
     "data": {
      "text/plain": [
       "'h'"
      ]
     },
     "execution_count": 4,
     "metadata": {},
     "output_type": "execute_result"
    }
   ],
   "source": [
    "\"chaîne\"[1]"
   ]
  },
  {
   "cell_type": "code",
   "execution_count": 5,
   "metadata": {},
   "outputs": [
    {
     "data": {
      "text/plain": [
       "'e'"
      ]
     },
     "execution_count": 5,
     "metadata": {},
     "output_type": "execute_result"
    }
   ],
   "source": [
    "\"chaîne\"[5]"
   ]
  },
  {
   "cell_type": "markdown",
   "metadata": {},
   "source": [
    "Encore une fois, veuillez essayer de modifier le code dans ces cellules et de les relancer. Essayez différentes valeurs, essayez une autre chaîne, devinez ce que le résultat sera avant d'appuyer sur exécuter. Et que se passe-t-il si l'indice est trop grand ?\n",
    "\n",
    "Nous pouvons trouver la longueur d'une chaîne en utilisant une autre fonction utile : `len(x)`"
   ]
  },
  {
   "cell_type": "code",
   "execution_count": 6,
   "metadata": {},
   "outputs": [
    {
     "data": {
      "text/plain": [
       "6"
      ]
     },
     "execution_count": 6,
     "metadata": {},
     "output_type": "execute_result"
    }
   ],
   "source": [
    "len(\"chaîne\")"
   ]
  },
  {
   "cell_type": "markdown",
   "metadata": {},
   "source": [
    "Ainsi, le code suivant affiche le dernier caractère de ce qui est stocké dans la variable appelée `texte` (essayez de changer la chaîne et de relancer la cellule) :"
   ]
  },
  {
   "cell_type": "code",
   "execution_count": 7,
   "metadata": {},
   "outputs": [
    {
     "data": {
      "text/plain": [
       "'e'"
      ]
     },
     "execution_count": 7,
     "metadata": {},
     "output_type": "execute_result"
    }
   ],
   "source": [
    "texte = \"chaîne\"\n",
    "texte[len(texte)-1]"
   ]
  },
  {
   "cell_type": "markdown",
   "metadata": {},
   "source": [
    "Comme nous l'avons mentionné précédemment, toute valeur qui est écrite en entier est appelée un **littéral**. `2` est un littéral entier, `\"bonjour\"` est un littéral de chaîne. Il est inhabituel de voir des crochets utilisés pour indexer un littéral de chaîne. Pourquoi écrire `\"chaine\"[0]` quand vous pouvez simplement écrire `\"c\"` ? Inhabituel, mais ça marche ! N'oubliez pas notre objectif d'être toujours capable de lire le code, même s'il est inhabituel !\n",
    "\n",
    "Indexer une chaîne avec des crochets est très courant sur les variables, comme le montrent les exemples ci-dessus et ci-dessous.\n",
    "\n",
    "Python nous donne également un petit raccourci sympa : nous pouvons utiliser des indices *négatifs* pour indexer à partir du *côté droit* de la chaîne. Donc `-1` est le dernier élément, `-2` est l'avant-dernier, et ainsi de suite :\n"
   ]
  },
  {
   "cell_type": "code",
   "execution_count": 8,
   "metadata": {},
   "outputs": [
    {
     "data": {
      "text/plain": [
       "'e'"
      ]
     },
     "execution_count": 8,
     "metadata": {},
     "output_type": "execute_result"
    }
   ],
   "source": [
    "texte = \"chaîne\"\n",
    "texte[-1]"
   ]
  },
  {
   "cell_type": "code",
   "execution_count": 9,
   "metadata": {},
   "outputs": [
    {
     "data": {
      "text/plain": [
       "'n'"
      ]
     },
     "execution_count": 9,
     "metadata": {},
     "output_type": "execute_result"
    }
   ],
   "source": [
    "texte[-2]"
   ]
  },
  {
   "cell_type": "markdown",
   "metadata": {},
   "source": [
    "Mais soyez prudent : si vous dépassez la longueur de la chaîne dans les deux sens, vous obtiendrez une erreur !"
   ]
  },
  {
   "cell_type": "code",
   "execution_count": 10,
   "metadata": {},
   "outputs": [
    {
     "ename": "IndexError",
     "evalue": "string index out of range",
     "output_type": "error",
     "traceback": [
      "\u001b[0;31m---------------------------------------------------------------------------\u001b[0m",
      "\u001b[0;31mIndexError\u001b[0m                                Traceback (most recent call last)",
      "Cell \u001b[0;32mIn[10], line 2\u001b[0m\n\u001b[1;32m      1\u001b[0m texte \u001b[38;5;241m=\u001b[39m \u001b[38;5;124m\"\u001b[39m\u001b[38;5;124mchaîne\u001b[39m\u001b[38;5;124m\"\u001b[39m\n\u001b[0;32m----> 2\u001b[0m \u001b[43mtexte\u001b[49m\u001b[43m[\u001b[49m\u001b[38;5;241;43m-\u001b[39;49m\u001b[38;5;241;43m7\u001b[39;49m\u001b[43m]\u001b[49m\n",
      "\u001b[0;31mIndexError\u001b[0m: string index out of range"
     ]
    }
   ],
   "source": [
    "texte = \"chaîne\"\n",
    "texte[-7]"
   ]
  },
  {
   "cell_type": "markdown",
   "metadata": {},
   "source": [
    "Vous êtes peut-être encore en train de vous habituer à voir ces erreurs, mais ne vous inquiétez pas, cela deviendra bientôt une activité quotidienne ! Encore une fois, l'erreur elle-même fournit beaucoup d'informations, mais cela peut être un peu accablant au début. Les informations les plus importantes sont sur la dernière ligne, donc commencez là. Le type d'erreur est une erreur d'indice, et l'explication est que l'indice de la chaîne est hors de portée. Espérons que c'est assez explicite !\n",
    "\n",
    "Enfin, vous pouvez accéder à une plage d'indices à partir d'une chaîne (également appelée sous-chaîne). Si `texte` est une variable de chaîne, alors écrire\n",
    "```python\n",
    "texte[x:y]\n",
    "```\n",
    "vous donnera la sous-chaîne de la position `x` *jusqu'à mais pas incluant la position* `y`.\n",
    "\n",
    "Dans l'exemple ci-dessous, remarquez comment `texte[2:4]` retourne les caractères avec les indices 2 et 3 (mais pas 4) de la chaîne :"
   ]
  },
  {
   "cell_type": "code",
   "execution_count": 11,
   "metadata": {},
   "outputs": [
    {
     "data": {
      "text/plain": [
       "'nd'"
      ]
     },
     "execution_count": 11,
     "metadata": {},
     "output_type": "execute_result"
    }
   ],
   "source": [
    "texte = \"sandwich\"\n",
    "texte[2:4]"
   ]
  },
  {
   "cell_type": "markdown",
   "metadata": {},
   "source": [
    "Essayez de changer les nombres ci-dessus et de voir comment ils affectent le résultat. Cela pourrait aider :\n",
    "\n",
    "```\n",
    "01234567\n",
    "sandwich\n",
    "```\n",
    "\n",
    "Vous pouvez omettre complètement `x` ou `y` pour obtenir une sous-chaîne qui va jusqu'au début ou jusqu'à la fin de la chaîne, respectivement."
   ]
  },
  {
   "cell_type": "code",
   "execution_count": 12,
   "metadata": {},
   "outputs": [
    {
     "data": {
      "text/plain": [
       "'ndwich'"
      ]
     },
     "execution_count": 12,
     "metadata": {},
     "output_type": "execute_result"
    }
   ],
   "source": [
    "texte = \"sandwich\"\n",
    "texte[2:]"
   ]
  },
  {
   "cell_type": "code",
   "execution_count": 13,
   "metadata": {},
   "outputs": [
    {
     "data": {
      "text/plain": [
       "'sand'"
      ]
     },
     "execution_count": 13,
     "metadata": {},
     "output_type": "execute_result"
    }
   ],
   "source": [
    "texte\n",
    "texte[:4]"
   ]
  },
  {
   "cell_type": "markdown",
   "metadata": {},
   "source": [
    "Vous pouvez également demander une sous-chaîne d'un littéral de chaîne, mais encore une fois, nous ne sommes pas susceptibles de le faire en pratique :"
   ]
  },
  {
   "cell_type": "code",
   "execution_count": 14,
   "metadata": {},
   "outputs": [
    {
     "data": {
      "text/plain": [
       "'sand'"
      ]
     },
     "execution_count": 14,
     "metadata": {},
     "output_type": "execute_result"
    }
   ],
   "source": [
    "\"sandwich\"[:4]"
   ]
  },
  {
   "cell_type": "markdown",
   "metadata": {},
   "source": [
    "Il existe un type spécial de chaîne appelé une *chaîne vide*. Les chaînes sont des séquences qui contiennent un nombre quelconque de caractères, y compris zéro. Nous pouvons écrire une chaîne vide comme vous pourriez l'imaginer, en incluant les guillemets mais sans texte : `''` ou `\"\"`. Cela peut sembler étrange, mais nous avons réellement besoin de chaînes vides pour que certains codes fonctionnent bien. Vous verrez des exemples de cela en temps voulu, mais pour l'instant, considérez ce qui se passerait si nous essayions de prendre une sous-chaîne en utilisant `[x:y]` où les deux valeurs sont les mêmes. Plutôt que de provoquer une erreur, une chaîne vide est plus utile :"
   ]
  },
  {
   "cell_type": "code",
   "execution_count": 15,
   "metadata": {},
   "outputs": [
    {
     "data": {
      "text/plain": [
       "''"
      ]
     },
     "execution_count": 15,
     "metadata": {},
     "output_type": "execute_result"
    }
   ],
   "source": [
    "texte[3:3]"
   ]
  },
  {
   "cell_type": "markdown",
   "metadata": {},
   "source": [
    "#### Nombres dans les Chaînes\n",
    "Maintenant, je vous garantis, à un moment donné, vous tenterez de concaténer un nombre dans une chaîne :\n",
    "```python\n",
    "\"Ceci est la chaîne numéro \" + 6\n",
    "```\n",
    "mais cela résultera en une erreur :"
   ]
  },
  {
   "cell_type": "code",
   "execution_count": 16,
   "metadata": {
    "scrolled": true
   },
   "outputs": [
    {
     "ename": "TypeError",
     "evalue": "can only concatenate str (not \"int\") to str",
     "output_type": "error",
     "traceback": [
      "\u001b[0;31m---------------------------------------------------------------------------\u001b[0m",
      "\u001b[0;31mTypeError\u001b[0m                                 Traceback (most recent call last)",
      "Cell \u001b[0;32mIn[16], line 1\u001b[0m\n\u001b[0;32m----> 1\u001b[0m \u001b[38;5;124;43m\"\u001b[39;49m\u001b[38;5;124;43mCeci est la chaîne numéro \u001b[39;49m\u001b[38;5;124;43m\"\u001b[39;49m\u001b[43m \u001b[49m\u001b[38;5;241;43m+\u001b[39;49m\u001b[43m \u001b[49m\u001b[38;5;241;43m6\u001b[39;49m\n",
      "\u001b[0;31mTypeError\u001b[0m: can only concatenate str (not \"int\") to str"
     ]
    }
   ],
   "source": [
    "\"Ceci est la chaîne numéro \" + 6"
   ]
  },
  {
   "cell_type": "markdown",
   "metadata": {},
   "source": [
    "C'est souvent le premier endroit où les débutants trébuchent car ils ne comprennent pas pleinement les types. Mais vous savez mieux ! En pensant aux *types* impliqués, vous pourriez déjà être capable de repérer le problème.\n",
    "\n",
    "Si ce n'est pas le cas, ne vous inquiétez pas. Encore une fois, rappelez-vous, les informations importantes dans une erreur sont en bas. Celle-ci dit que nous avons une erreur de type. La concaténation avec `+` est définie pour deux chaînes, mais pas pour une chaîne et un entier.\n",
    "\n",
    "Pour résoudre ce problème, nous pouvons convertir manuellement l'entier en chaîne :"
   ]
  },
  {
   "cell_type": "code",
   "execution_count": 17,
   "metadata": {},
   "outputs": [
    {
     "data": {
      "text/plain": [
       "'Ceci est la chaîne numéro 6'"
      ]
     },
     "execution_count": 17,
     "metadata": {},
     "output_type": "execute_result"
    }
   ],
   "source": [
    "\"Ceci est la chaîne numéro \" + str(6)"
   ]
  },
  {
   "cell_type": "markdown",
   "metadata": {},
   "source": [
    "Cela donne le résultat que nous attendons. Maintenant, vous pouvez voir pourquoi il est si important que vous compreniez les types de vos données, même si Python s'en occupe tout seul lorsqu'il s'agit d'assigner des types aux variables.\n",
    "\n",
    "Vous finirez souvent par vouloir insérer des nombres dans des chaînes lorsque vous écrivez du code, et c'est en fait pénible de devoir continuellement couper la chaîne. Supposons que vous vouliez écrire quelque chose comme ceci – en réalité vous utiliserez des variables, mais restons avec des littéraux pour l'instant :"
   ]
  },
  {
   "cell_type": "code",
   "execution_count": 18,
   "metadata": {},
   "outputs": [
    {
     "data": {
      "text/plain": [
       "\"c'est la tentative 5 sur 10, votre score actuel est 30 sur 100.\""
      ]
     },
     "execution_count": 18,
     "metadata": {},
     "output_type": "execute_result"
    }
   ],
   "source": [
    "\"c'est la tentative \" + str(5) + \" sur \" + str(10) + \", votre score actuel est \" + str(30) + \" sur \" + str(100) + \".\""
   ]
  },
  {
   "cell_type": "markdown",
   "metadata": {},
   "source": [
    "Le code est un peu désordonné même si nous obtenons ce que nous voulons. Comme c'est si courant, Python a d'autres moyens de traiter cela.\n",
    "\n",
    "⚠️ *Ne sentez pas que vous devez apprendre cela maintenant.* Lisez cette section mais ne vous sentez pas obligé de la mémoriser. Ensuite, lorsque vous voudrez faire cela à l'avenir, revenez à cette page.\n",
    "\n",
    "Vous verrez cela utilisé couramment :"
   ]
  },
  {
   "cell_type": "code",
   "execution_count": 19,
   "metadata": {},
   "outputs": [
    {
     "data": {
      "text/plain": [
       "\"c'est la tentative 5 sur 10, votre score actuel est 30 sur 100\""
      ]
     },
     "execution_count": 19,
     "metadata": {},
     "output_type": "execute_result"
    }
   ],
   "source": [
    "\"c'est la tentative {} sur {}, votre score actuel est {} sur {}\".format(5, 10, 30, 100)"
   ]
  },
  {
   "cell_type": "markdown",
   "metadata": {},
   "source": [
    "À partir de Python 3.6, vous pouvez également écrire ceci :"
   ]
  },
  {
   "cell_type": "code",
   "execution_count": 20,
   "metadata": {},
   "outputs": [
    {
     "data": {
      "text/plain": [
       "\"c'est la tentative 5 sur 10, votre score actuel est 30 sur 100\""
      ]
     },
     "execution_count": 20,
     "metadata": {},
     "output_type": "execute_result"
    }
   ],
   "source": [
    "f\"c'est la tentative {5} sur {10}, votre score actuel est {30} sur {100}\""
   ]
  },
  {
   "cell_type": "markdown",
   "metadata": {},
   "source": [
    "Remarquez le `f` juste avant le début de la chaîne. Lorsque nous plaçons ce `f` avant la chaîne, tout ce qui est écrit entre `{` et `}` sera évalué. Ainsi, vous pouvez insérer des variables ou même des calculs arithmétiques ici aussi. Voici à quoi notre code ressemblerait plus probablement en pratique."
   ]
  },
  {
   "cell_type": "code",
   "execution_count": 21,
   "metadata": {},
   "outputs": [
    {
     "data": {
      "text/plain": [
       "\"c'est la tentative 5 sur 10, votre score actuel est 30 sur 100\""
      ]
     },
     "execution_count": 21,
     "metadata": {},
     "output_type": "execute_result"
    }
   ],
   "source": [
    "tentative = 5\n",
    "max_tentatives = 10\n",
    "score = 30\n",
    "max_score = 100\n",
    "\n",
    "f\"c'est la tentative {tentative} sur {max_tentatives}, votre score actuel est {score} sur {max_score}\""
   ]
  },
  {
   "cell_type": "code",
   "execution_count": 22,
   "metadata": {},
   "outputs": [
    {
     "data": {
      "text/plain": [
       "'la tentative 5 sur 10 représente 50.0% du maximum'"
      ]
     },
     "execution_count": 22,
     "metadata": {},
     "output_type": "execute_result"
    }
   ],
   "source": [
    "f\"la tentative {tentative} sur {max_tentatives} représente {tentative/max_tentatives*100}% du maximum\""
   ]
  },
  {
   "cell_type": "markdown",
   "metadata": {},
   "source": [
    "Et si vous utilisez une version de Python antérieure à 3.6, vous pouvez bien sûr faire ceci aussi :"
   ]
  },
  {
   "cell_type": "code",
   "execution_count": 23,
   "metadata": {},
   "outputs": [
    {
     "data": {
      "text/plain": [
       "\"c'est la tentative 5 sur 10, votre score actuel est 30 sur 100\""
      ]
     },
     "execution_count": 23,
     "metadata": {},
     "output_type": "execute_result"
    }
   ],
   "source": [
    "\"c'est la tentative {} sur {}, votre score actuel est {} sur {}\".format(tentative, max_tentatives, score, max_score)"
   ]
  },
  {
   "cell_type": "code",
   "execution_count": 24,
   "metadata": {},
   "outputs": [
    {
     "data": {
      "text/plain": [
       "'la tentative 5 sur 10 représente 50.0% du maximum'"
      ]
     },
     "execution_count": 24,
     "metadata": {},
     "output_type": "execute_result"
    }
   ],
   "source": [
    "\"la tentative {} sur {} représente {}% du maximum\".format(tentative, max_tentatives, tentative/max_tentatives*100)"
   ]
  },
  {
   "cell_type": "markdown",
   "metadata": {},
   "source": [
    "Vous pouvez faire beaucoup plus avec le formatage des chaînes et les f-strings en Python. Si vous êtes curieux, vous pourriez rechercher des tutoriels en ligne. Personnellement, j'aime regarder la documentation Python, mais c'est assez technique, pas spécialement adaptés aux débutants. Mais c'est notre objectif : finalement, vous écrirez du code et voudrez utiliser une fonctionnalité de Python, et plutôt que de vous sentir bloqué, vous saurez exactement où trouver la documentation.\n",
    "\n",
    "Pour l'instant cependant, essayez le quiz ci-dessous, et continuez à travailler jusqu'à la section suivante."
   ]
  },
  {
   "cell_type": "markdown",
   "metadata": {},
   "source": [
    "#### Questions\n",
    "Voici quelques questions sur les chaînes. Si votre réponse est une chaîne, assurez-vous d'inclure les guillemets – vous pouvez utiliser des guillemets simples ou doubles, le script acceptera les deux."
   ]
  },
  {
   "cell_type": "code",
   "execution_count": null,
   "metadata": {},
   "outputs": [],
   "source": [
    "from questions_interactives import run\n",
    "run(\"1.4.1q.txt\")"
   ]
  }
 ],
 "metadata": {
  "kernelspec": {
   "display_name": "Python 3 (ipykernel)",
   "language": "python",
   "name": "python3"
  },
  "language_info": {
   "codemirror_mode": {
    "name": "ipython",
    "version": 3
   },
   "file_extension": ".py",
   "mimetype": "text/x-python",
   "name": "python",
   "nbconvert_exporter": "python",
   "pygments_lexer": "ipython3",
   "version": "3.10.12"
  }
 },
 "nbformat": 4,
 "nbformat_minor": 2
}
