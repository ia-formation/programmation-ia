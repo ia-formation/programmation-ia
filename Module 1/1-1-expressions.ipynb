{
 "cells": [
  {
   "cell_type": "markdown",
   "metadata": {},
   "source": [
    "## Section 1.1 – Expressions\n",
    "### Arithmétiques\n",
    "Nous entamons notre exploration de la programmation en abordant le concept des expressions.\n",
    "\n",
    "Examinez l'exemple suivant de code Python :"
   ]
  },
  {
   "cell_type": "code",
   "execution_count": 1,
   "metadata": {},
   "outputs": [
    {
     "data": {
      "text/plain": [
       "7"
      ]
     },
     "execution_count": 1,
     "metadata": {},
     "output_type": "execute_result"
    }
   ],
   "source": [
    "4 + 3"
   ]
  },
  {
   "cell_type": "markdown",
   "metadata": {},
   "source": [
    "Effectuer des calculs mathématiques basiques est très courant en programmation. Plus tôt, vous avez vu un exemple où nous pourrions vouloir trouver la durée entre deux dates - une tâche étonnamment complexe, selon les dates impliquées. La résoudre nécessite non seulement une connaissance de la **syntaxe** de programmation (par exemple, Python) mais aussi un ensemble de logique et un peu de maths.\n",
    "\n",
    "Python prend en charge de nombreuses **opérations** arithmétiques : addition `+`, soustraction `-`, multiplication `*`, division `/` et plus encore. Ces opérations prennent toutes deux nombres et produisent un autre nombre.\n",
    "\n",
    "Ce bout de code est appelé une **expression**. Elle possède une valeur que nous pouvons **évaluer**."
   ]
  },
  {
   "cell_type": "code",
   "execution_count": 2,
   "metadata": {},
   "outputs": [
    {
     "data": {
      "text/plain": [
       "6"
      ]
     },
     "execution_count": 2,
     "metadata": {},
     "output_type": "execute_result"
    }
   ],
   "source": [
    "2 + 4"
   ]
  },
  {
   "cell_type": "markdown",
   "metadata": {},
   "source": [
    "Lorsque nous *évaluons* `2+4`, nous obtenons `6`. L'expression est `2+4`, et la valeur que nous obtenons en l'évaluant est `6`.\n",
    "\n",
    "*N'oubliez pas : vous pouvez modifier le code à l'intérieur des cellules Jupyter pour voir quels seraient les résultats avec des nombres différents. Essayez de changer les nombres ci-dessus et de relancer la cellule !*"
   ]
  },
  {
   "cell_type": "markdown",
   "metadata": {},
   "source": [
    "#### Structure du code\n",
    "Pour pouvoir *écrire* du code, nous devons savoir comment l'ordinateur va le *lire*. Souvent, une seule ligne de code effectue plusieurs opérations. Heureusement, il est toujours possible de déterminer l'ordre dans lequel tout se passe.\n",
    "\n",
    "En mathématiques, il existe un *ordre de priorité*, qui stipule que la multiplication est toujours effectuée avant l'addition (vous avez peut-être entendu parler de BODMAS, BIDMAS, PEMDAS, etc.). Les expressions arithmétiques en Python suivent également cet ordre. Ainsi, si nous écrivons du code comme ceci..."
   ]
  },
  {
   "cell_type": "code",
   "execution_count": 3,
   "metadata": {},
   "outputs": [
    {
     "data": {
      "text/plain": [
       "10"
      ]
     },
     "execution_count": 3,
     "metadata": {},
     "output_type": "execute_result"
    }
   ],
   "source": [
    "4 + 3 * 2"
   ]
  },
  {
   "cell_type": "markdown",
   "metadata": {},
   "source": [
    "alors, effectivement, Python suivra les règles habituelles.\n",
    "\n",
    "Ce code\n",
    "```python\n",
    "4 + 3 * 2\n",
    "```\n",
    "s'évalue à `10`. Nous effectuons d'abord `3 * 2`, ce qui donne `6`, puis nous ajoutons `4`, pour obtenir `10`.\n",
    "\n",
    "Comme en arithmétique classique, nous pouvons utiliser des parenthèses pour changer l'ordre :"
   ]
  },
  {
   "cell_type": "code",
   "execution_count": 4,
   "metadata": {},
   "outputs": [
    {
     "data": {
      "text/plain": [
       "14"
      ]
     },
     "execution_count": 4,
     "metadata": {},
     "output_type": "execute_result"
    }
   ],
   "source": [
    "(4 + 3) * 2"
   ]
  },
  {
   "cell_type": "code",
   "execution_count": 5,
   "metadata": {},
   "outputs": [
    {
     "data": {
      "text/plain": [
       "-2"
      ]
     },
     "execution_count": 5,
     "metadata": {},
     "output_type": "execute_result"
    }
   ],
   "source": [
    "1 - (2 + 1)"
   ]
  },
  {
   "cell_type": "markdown",
   "metadata": {},
   "source": [
    "#### Questions\n",
    "À votre tour ! Exécutez la cellule ci-dessous et voyez si vous pouvez répondre aux questions. L'objectif de l'exercice est de déterminer correctement dans quel ordre Python va **évaluer** les opérations.\n",
    "\n",
    "Il ne s'agit pas de résoudre des problèmes mathématiques complexes – si vous avez des difficultés, n'hésitez pas à utiliser une calculatrice simple, mais faites vous-même l'ordre des opérations.\n",
    "\n",
    "Les questions de chaque quiz se compliquent au fur et à mesure, et peuvent même introduire de nouvelles notions que vous n'avez pas encore vues et que vous devrez élucider. ***Assurez-vous de compléter au moins une fois le premier ensemble de questions de chaque quiz.***\n",
    "\n",
    "*Note 1 : vous pouvez entrer des nombres décimaux ou négatifs exactement comme vous vous y attendriez !*<br>\n",
    "*Note 2 : souvenez-vous que vous devez terminer le quiz ou arrêter l'exécution de la cellule avant de pouvoir exécuter une autre cellule*"
   ]
  },
  {
   "cell_type": "code",
   "execution_count": null,
   "metadata": {
    "scrolled": true
   },
   "outputs": [],
   "source": [
    "from questions_interactives import run\n",
    "run(\"1.1.1q.txt\")"
   ]
  },
  {
   "cell_type": "markdown",
   "metadata": {},
   "source": [
    "### Booleans\n",
    "En programmation, nous utilisons fréquemment des nombres, mais nous employons également d'autres types de données. Un booléen (nommé d'après [George Boole](https://fr.wikipedia.org/wiki/George_Boole)) est une valeur qui peut être vraie ou fausse. Il existe plusieurs manières de les représenter :\n",
    "* vrai, faux\n",
    "* V, F\n",
    "* 1, 0\n",
    "\n",
    "En Python, nous écrivons `True` et `False` (remarquez que les lettres T et F sont en majuscule)."
   ]
  },
  {
   "cell_type": "code",
   "execution_count": 6,
   "metadata": {},
   "outputs": [
    {
     "data": {
      "text/plain": [
       "True"
      ]
     },
     "execution_count": 6,
     "metadata": {},
     "output_type": "execute_result"
    }
   ],
   "source": [
    "True"
   ]
  },
  {
   "cell_type": "code",
   "execution_count": 7,
   "metadata": {},
   "outputs": [
    {
     "data": {
      "text/plain": [
       "False"
      ]
     },
     "execution_count": 7,
     "metadata": {},
     "output_type": "execute_result"
    }
   ],
   "source": [
    "False"
   ]
  },
  {
   "cell_type": "markdown",
   "metadata": {},
   "source": [
    "Remarquez que chacune de ces cellules ci-dessus contient simplement une seule valeur booléenne, mais nous pourrions tout de même les considérer comme des expressions. Lorsque nous évaluons `True`, nous obtenons `True`. Un seul nombre peut également être une expression, l'expression `2` a pour valeur `2`."
   ]
  },
  {
   "cell_type": "markdown",
   "metadata": {},
   "source": [
    "#### Opérations Booléennes\n",
    "L'addition est une *opération arithmétique*. Elle prend deux nombres et produit un autre nombre.\n",
    "\n",
    "Il y a également trois *opérations booléennes* que vous devez connaître :\n",
    "* **ET**\n",
    "* **OU**\n",
    "* **NON**\n",
    "\n",
    "Et voici comment elles fonctionnent :\n",
    "* X **ET** Y – est vrai si X et Y sont tous deux vrais, sinon le résultat est faux\n",
    "* X **OU** Y – est vrai si l'un des X ou Y est vrai, sinon le résultat est faux\n",
    "* **NON** X – inverse la valeur de X : vrai devient faux, et faux devient vrai\n",
    "\n",
    "Ces éléments ne sont pas uniquement des fonctionnalités de programmation, ils sont fondamentaux dans des domaines tels que les mathématiques et la logique, ainsi que l'électronique. En fait, le silicium à l'intérieur de votre ordinateur qui le fait fonctionner effectue essentiellement le travail de diverses [portes logiques](https://fr.wikipedia.org/wiki/Porte_logique).\n",
    "\n",
    "En Python, nous utilisons `and` pour réaliser l'opération ET."
   ]
  },
  {
   "cell_type": "code",
   "execution_count": 8,
   "metadata": {},
   "outputs": [
    {
     "data": {
      "text/plain": [
       "False"
      ]
     },
     "execution_count": 8,
     "metadata": {},
     "output_type": "execute_result"
    }
   ],
   "source": [
    "True and False"
   ]
  },
  {
   "cell_type": "markdown",
   "metadata": {},
   "source": [
    "nous utilisons le mot « ou » pour effectuer l'opération OU :"
   ]
  },
  {
   "cell_type": "code",
   "execution_count": 9,
   "metadata": {},
   "outputs": [
    {
     "data": {
      "text/plain": [
       "True"
      ]
     },
     "execution_count": 9,
     "metadata": {},
     "output_type": "execute_result"
    }
   ],
   "source": [
    "True or False"
   ]
  },
  {
   "cell_type": "markdown",
   "metadata": {},
   "source": [
    "et, vous l'aurez deviné, nous utilisons le mot « not » pour effectuer l'opération NOT :"
   ]
  },
  {
   "cell_type": "code",
   "execution_count": 10,
   "metadata": {},
   "outputs": [
    {
     "data": {
      "text/plain": [
       "True"
      ]
     },
     "execution_count": 10,
     "metadata": {},
     "output_type": "execute_result"
    }
   ],
   "source": [
    "not False"
   ]
  },
  {
   "cell_type": "markdown",
   "metadata": {},
   "source": [
    "***Continuons :*** *essayez de changer les valeurs des expressions dans les cellules ci-dessus et de les relancer. Pouvez-vous deviner ce qu'elles produiront avant d'appuyer sur exécuter ?*\n",
    "\n",
    "#### Ordre de Précédence des Booléens\n",
    "L'*ordre de précédence* est le suivant :\n",
    "1. NON\n",
    "2. ET\n",
    "3. OU\n",
    "\n",
    "Ainsi, lorsque nous *évaluons*\n",
    "```python\n",
    "not False and not False or False\n",
    "```\n",
    "nous obtenons\n",
    "```python\n",
    "True\n",
    "```"
   ]
  },
  {
   "cell_type": "code",
   "execution_count": 11,
   "metadata": {},
   "outputs": [
    {
     "data": {
      "text/plain": [
       "True"
      ]
     },
     "execution_count": 11,
     "metadata": {},
     "output_type": "execute_result"
    }
   ],
   "source": [
    "not False and not False or False"
   ]
  },
  {
   "cell_type": "markdown",
   "metadata": {},
   "source": [
    "Comprenez-vous pourquoi ? Écrivons des parenthèses pour montrer l'ordre.\n",
    "\n",
    "NON est appliqué en premier :\n",
    "```python\n",
    "(not False) and (not False) or False\n",
    "```\n",
    "puis ET\n",
    "```python\n",
    "((not False) and (not False)) or False\n",
    "```\n",
    "et enfin OU\n",
    "```python\n",
    "(((not False) and (not False)) or False)\n",
    "```"
   ]
  },
  {
   "cell_type": "markdown",
   "metadata": {},
   "source": [
    "À un moment donné, vous devrez écrire des lignes de code complexes qui font plusieurs choses à la fois, et pour pouvoir écrire une telle ligne de code, vous devez être capable de la lire. Une seule ligne de code est une séquence d'actions – vous devez être capable de déterminer dans quel ordre elles seront exécutées, puis comprendre quel en sera le résultat.\n",
    "\n",
    "Pour être clair, l'expression `not False and not False or False` n'est pas très facile à lire pour quiconque. Le programmeur aurait probablement dû utiliser des parenthèses pour la rendre plus claire. Même moi, je dois occasionnellement vérifier l'ordre de précédence dans des situations comme celle-ci !\n",
    "\n",
    "Mais maintenant, nous avons exactement la même expression, et avons ajouté des parenthèses pour la rendre plus claire. Donc à ce stade, vous devriez être capable d'évaluer chacun des opérateurs pour obtenir le résultat final. Faisons cela, en commençant par évaluer tous les NON :\n",
    "\n",
    "```python\n",
    "(((not False) and (not False)) or False)\n",
    "```\n",
    "\n",
    "devient\n",
    "```python\n",
    "((True and True) or False)\n",
    "```\n",
    "\n",
    "puis nous évaluons le ET pour obtenir :\n",
    "```python\n",
    "(True or False)\n",
    "```\n",
    "\n",
    "puis nous évaluons le dernier OU pour obtenir :\n",
    "```python\n",
    "True\n",
    "```\n",
    "\n",
    "#### Questions\n",
    "Maintenant, essayons quelques questions sur les opérations booléennes. Exécutez la cellule ci-dessous, et pour chaque question, essayez de déterminer dans quel ordre Python va *évaluer* les opérations, puis déterminez le résultat final."
   ]
  },
  {
   "cell_type": "code",
   "execution_count": null,
   "metadata": {},
   "outputs": [],
   "source": [
    "from questions_interactives import run\n",
    "run(\"1.1.2q.txt\")"
   ]
  },
  {
   "cell_type": "markdown",
   "metadata": {},
   "source": [
    "Encore une fois, assurez-vous de compléter l'ensemble du quiz au moins une fois ! Parfois, il y a de petites leçons cachées à l'intérieur des quiz !"
   ]
  }
 ],
 "metadata": {
  "kernelspec": {
   "display_name": "Python 3 (ipykernel)",
   "language": "python",
   "name": "python3"
  },
  "language_info": {
   "codemirror_mode": {
    "name": "ipython",
    "version": 3
   },
   "file_extension": ".py",
   "mimetype": "text/x-python",
   "name": "python",
   "nbconvert_exporter": "python",
   "pygments_lexer": "ipython3",
   "version": "3.10.12"
  }
 },
 "nbformat": 4,
 "nbformat_minor": 2
}
