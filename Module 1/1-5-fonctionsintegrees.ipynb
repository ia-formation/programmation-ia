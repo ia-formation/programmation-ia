{
 "cells": [
  {
   "cell_type": "markdown",
   "metadata": {},
   "source": [
    "# Semaine 1 Partie 2 – Structure du Code\n",
    "## Section 1.5 Fonctions Intégrées\n",
    "### Fonctions\n",
    "Voici un rappel de certaines définitions que nous avons introduites sur Engage :\n",
    "* Fonction – bloc de code nommé\n",
    "* Appel (d'une fonction) – lorsque nous exécutons une fonction depuis un autre endroit dans le code\n",
    "* Paramètres – les entrées d'une fonction de son point de vue (par exemple, une fonction avec deux paramètres)\n",
    "* Arguments – les données réelles *transmises* à une fonction lorsque nous l'appelons\n",
    "* Valeur de retour – la sortie d'une fonction\n",
    "\n",
    "La syntaxe pour appeler une fonction avec trois paramètres est :\n",
    "```python\n",
    "nom_de_fonction(arg_1, arg_2, arg_3)\n",
    "```\n",
    "\n",
    "Nous avons vu des fonctions comme `type`, `len`, et `round` dans les cahiers précédents. Concentrons-nous sur `round` un instant. Voici un autre exemple de son utilisation :"
   ]
  },
  {
   "cell_type": "code",
   "execution_count": 1,
   "metadata": {},
   "outputs": [
    {
     "data": {
      "text/plain": [
       "11"
      ]
     },
     "execution_count": 1,
     "metadata": {},
     "output_type": "execute_result"
    }
   ],
   "source": [
    "round(10.6)"
   ]
  },
  {
   "cell_type": "markdown",
   "metadata": {},
   "source": [
    "Dans cet exemple\n",
    "```python\n",
    "round(10.6)\n",
    "```\n",
    "la fonction est `round`, l'argument est `10.6`, et la valeur de retour est `10`.\n",
    "\n",
    "Voici un autre exemple :"
   ]
  },
  {
   "cell_type": "code",
   "execution_count": 2,
   "metadata": {},
   "outputs": [
    {
     "data": {
      "text/plain": [
       "32"
      ]
     },
     "execution_count": 2,
     "metadata": {},
     "output_type": "execute_result"
    }
   ],
   "source": [
    "pow(2, 5)"
   ]
  },
  {
   "cell_type": "markdown",
   "metadata": {},
   "source": [
    "Le nom est `pow`, et lorsque les arguments sont `2` et `5` la valeur de retour est `32`.\n",
    "\n",
    "Pouvez-vous deviner ce qu'elle fait à partir du nom et des valeurs affichées ?\n",
    "\n",
    "Souvenez-vous que vous pouvez toujours essayer de changer les valeurs et de relancer la cellule ! Essayez cela avant de continuer.\n",
    "\n",
    "`pow(x, y)` calcule `x` à la puissance de `y`. Ou écrit mathématiquement : $x^y$.\n",
    "\n",
    "Nous pouvons également écrire cela en Python en utilisant l'**opérateur** `**` :"
   ]
  },
  {
   "cell_type": "code",
   "execution_count": 3,
   "metadata": {},
   "outputs": [
    {
     "data": {
      "text/plain": [
       "32"
      ]
     },
     "execution_count": 3,
     "metadata": {},
     "output_type": "execute_result"
    }
   ],
   "source": [
    "2 ** 5"
   ]
  },
  {
   "cell_type": "markdown",
   "metadata": {},
   "source": [
    "La différence entre ces deux formes est *essentiellement* juste syntaxique. Nous appelons `**` un opérateur, et `pow` une fonction, mais les deux prennent deux nombres en entrée et ils retournent tous deux un seul nombre.\n",
    "\n",
    "Vous avez vu beaucoup d'autres opérateurs arithmétiques et booléens au chapitre 1, tels que l'addition `+` ou NON `not`. Vous pouvez penser à tous les opérateurs comme étant une syntaxe spéciale pour des fonctions communes.\n",
    "\n",
    "Nous pouvons mélanger et associer opérateurs et fonctions pour créer de grandes expressions :"
   ]
  },
  {
   "cell_type": "code",
   "execution_count": 4,
   "metadata": {},
   "outputs": [
    {
     "data": {
      "text/plain": [
       "81"
      ]
     },
     "execution_count": 4,
     "metadata": {},
     "output_type": "execute_result"
    }
   ],
   "source": [
    "(len(\"chaîne\") + round(10 / 3)) ** 2"
   ]
  },
  {
   "cell_type": "markdown",
   "metadata": {},
   "source": [
    "### Procédures\n",
    "Nous avons dit plus tôt que les fonctions *peuvent* retourner des valeurs. C'était un léger abus de langage. Techniquement, une **fonction** est un type spécial de **sous-routine**. Toutes les **fonctions** retournent des valeurs. Certaines **sous-routines** ne retournent pas de valeurs, et celles-ci sont appelées **procédures**. Il est courant dans l'usage quotidien d'être laxiste avec l'utilisation précise de ces termes, et dans cette formation, nous utiliserons principalement le mot fonction à moins que nous essayions de faire un point spécifique.\n",
    "\n",
    "Il y a quelques procédures Python intégrées que nous rencontrerons dans les chapitres suivants. Pour l'instant, en voici une qui est assez inhabituelle mais extrêmement utile, comme vous l'avez peut-être deviné à partir du nom, elle s'appelle `help` :"
   ]
  },
  {
   "cell_type": "code",
   "execution_count": 5,
   "metadata": {
    "scrolled": true
   },
   "outputs": [
    {
     "name": "stdout",
     "output_type": "stream",
     "text": [
      "Help on built-in function len in module builtins:\n",
      "\n",
      "len(obj, /)\n",
      "    Return the number of items in a container.\n",
      "\n"
     ]
    }
   ],
   "source": [
    "help(len)"
   ]
  },
  {
   "cell_type": "markdown",
   "metadata": {},
   "source": [
    "Lorsque nous utilisons la procédure `help`, nous obtenons des informations sur tout *objet* que nous passons. Cette information n'est pas *retournée*, elle est simplement affichée à l'écran. Donc `help` est vraiment une procédure.\n",
    "\n",
    "Vous ne pouvez pas assigner `help(len)` à une variable. Eh bien... vous pouvez, mais la variable sera vide après."
   ]
  },
  {
   "cell_type": "code",
   "execution_count": 6,
   "metadata": {},
   "outputs": [
    {
     "name": "stdout",
     "output_type": "stream",
     "text": [
      "Help on built-in function len in module builtins:\n",
      "\n",
      "len(obj, /)\n",
      "    Return the number of items in a container.\n",
      "\n"
     ]
    }
   ],
   "source": [
    "# cette cellule affiche les informations d'aide comme vous vous en doutez\n",
    "help_return = help(len)"
   ]
  },
  {
   "cell_type": "code",
   "execution_count": 7,
   "metadata": {},
   "outputs": [],
   "source": [
    "# lorsque vous exécutez cette cellule, rien ne se passe, car help_return est vide\n",
    "help_return"
   ]
  },
  {
   "cell_type": "markdown",
   "metadata": {},
   "source": [
    "La valeur actuellement stockée dans `help_return` est étrange. La cellule ne produit pas d'erreur, mais rien n'est affiché dans la boîte de sortie. C'est une valeur 'vide' spéciale appelée `None`. Pour l'instant, ne vous inquiétez pas, nous y reviendrons.\n",
    "\n",
    "Jupyter a une autre fonctionnalité d'aide qui affichera une fenêtre contextuelle lorsque vous l'exécutez – nous pouvons écrire un point d'interrogation avant n'importe quelle fonction que nous voulons en savoir plus. Cela fait définitivement *quelque chose* plutôt que *retourner quelque chose*. Rien ne s'affiche sous la cellule du tout.\n",
    "\n",
    "La distinction entre procédure et fonction est très similaire à celle entre déclaration et expression. Essayez d'exécuter la cellule ci-dessous.\n"
   ]
  },
  {
   "cell_type": "code",
   "execution_count": null,
   "metadata": {},
   "outputs": [],
   "source": [
    "?len"
   ]
  },
  {
   "cell_type": "markdown",
   "metadata": {},
   "source": [
    "Ces deux fonctionnalités d'aide peuvent être vraiment utiles lorsque vous apprenez à programmer, mais souvenez-vous que la page d'aide n'est pas nécessairement écrite pour les débutants. Celle pour `len` est courte et claire. Vous pouvez toujours essayer, et si c'est confus, essayez de chercher ailleurs en ligne. Bien sûr, vous ne verrez jamais la procédure `help` à l'intérieur d'un programme de production réel. Elle est utilisée seulement pendant que vous écrivez du code et que vous essayez de comprendre ce que quelque chose fait.\n",
    "\n",
    "\n",
    "### Quelques Exemples de Plus\n",
    "Voici trois fonctions intégrées supplémentaires que vous pourriez trouver utiles à l'avenir : `max(x, y)`, `min(x, y)`, et `abs(x)`. Elles prennent toutes des nombres en arguments. Expérimentez avec la cellule ci-dessous pour voir si vous pouvez deviner ce que fait chacune, même si vous pensez que c'est évident à partir des noms. Vous pourriez essayer quelques arguments d'exemple, ou utiliser la procédure d'aide."
   ]
  },
  {
   "cell_type": "code",
   "execution_count": null,
   "metadata": {},
   "outputs": [],
   "source": [
    "# essayez d'utiliser les fonctions max(x, y), min(x, y) et abs(x) ici !\n",
    "# exemples : max(3, 5), min(-1, 10), abs(-10)"
   ]
  },
  {
   "cell_type": "markdown",
   "metadata": {},
   "source": [
    "### Fonctions de Chaînes\n",
    "Jusqu'à présent, nous avons utilisé plusieurs *types* de *données* : des entiers, des flottants, des booléens et des chaînes, pour n'en nommer que quelques-uns. Les instances individuelles de ces *choses* (les *littéraux*, les *variables*, les *arguments*...) sont plus correctement appelées **objets**. Ce mot a une signification très spécifique à laquelle nous reviendrons dans les modules suivants. Pour l'instant, pensez-y simplement comme le mot approprié pour *chose*.\n",
    "\n",
    "Les objets de chaîne ont leurs propres fonctions spéciales. Un autre nom pour une *fonction qui appartient à un objet* est une **méthode**, mais là encore, nous pourrions simplement les appeler des fonctions à moins que nous ne soyons délibérément précis.\n",
    "\n",
    "Un exemple est la fonction appelée `find`. Elle nous permet de trouver un caractère (ou une sous-chaîne) à l'intérieur d'une chaîne et nous indique l'indice auquel il se trouve. Donc, si nous voulions trouver le caractère `\"i\"` dans la chaîne `\"chaîne\"`, la fonction `find` retournera `3`. *(Rappelez-vous que les indices de chaîne commencent à 0.)*\n",
    "\n",
    "Cette fonction ne fonctionne que pour les chaînes. Donc, plutôt que d'avoir une fonction qui fonctionne comme ceci\n",
    "```python\n",
    "find(\"chaîne\", \"i\")\n",
    "```\n",
    "la fonction *appartient* à l'objet de chaîne, et est utilisée comme ceci :\n",
    "```python\n",
    "\"chaîne\".find(\"i\")\n",
    "```"
   ]
  },
  {
   "cell_type": "code",
   "execution_count": 8,
   "metadata": {},
   "outputs": [
    {
     "data": {
      "text/plain": [
       "-1"
      ]
     },
     "execution_count": 8,
     "metadata": {},
     "output_type": "execute_result"
    }
   ],
   "source": [
    "\"chaîne\".find(\"i\")"
   ]
  },
  {
   "cell_type": "code",
   "execution_count": 9,
   "metadata": {},
   "outputs": [
    {
     "data": {
      "text/plain": [
       "3"
      ]
     },
     "execution_count": 9,
     "metadata": {},
     "output_type": "execute_result"
    }
   ],
   "source": [
    "\"chaîne\".find(\"îne\")"
   ]
  },
  {
   "cell_type": "markdown",
   "metadata": {},
   "source": [
    "Si la sous-chaîne n'est pas trouvée, alors la valeur de retour est `-1`."
   ]
  },
  {
   "cell_type": "code",
   "execution_count": 10,
   "metadata": {},
   "outputs": [
    {
     "data": {
      "text/plain": [
       "-1"
      ]
     },
     "execution_count": 10,
     "metadata": {},
     "output_type": "execute_result"
    }
   ],
   "source": [
    "\"chaîne\".find(\"z\")"
   ]
  },
  {
   "cell_type": "markdown",
   "metadata": {},
   "source": [
    "Les chaînes ont beaucoup de fonctions utiles comme celle-ci. Ne vous sentez pas obligé de les apprendre toutes maintenant. Je me retrouve souvent à lire la liste disponible dans la [documentation Python](https://docs.python.org/3/library/stdtypes.html#string-methods).\n",
    "\n",
    "🚨 **Attention :** nous devons être prudents lors de l'utilisation des méthodes – elles peuvent être de véritables *fonctions* ou elles peuvent être des *procédures*. En d'autres termes, elles peuvent *changer l'objet* (procédure) ou elles peuvent *retourner une nouvelle valeur* (fonction).\n",
    "\n",
    "Toutes les méthodes de chaîne sont des *fonctions*. Elles *retournent* toutes une nouvelle chaîne, elles ne *changent* pas la valeur de la chaîne.\n",
    "\n",
    "La fonction `replace` retourne une chaîne avec toutes les instances d'une chaîne remplacées par une autre. Donc\n",
    "```python\n",
    "\"chaîne\".replace(\"i\", \"o\")\n",
    "```\n",
    "retourne `\"strong\"`.\n"
   ]
  },
  {
   "cell_type": "code",
   "execution_count": 11,
   "metadata": {},
   "outputs": [
    {
     "data": {
      "text/plain": [
       "'chaîne'"
      ]
     },
     "execution_count": 11,
     "metadata": {},
     "output_type": "execute_result"
    }
   ],
   "source": [
    "\"chaîne\".replace(\"i\", \"o\")"
   ]
  },
  {
   "cell_type": "markdown",
   "metadata": {},
   "source": [
    "Devinez la sortie du code suivant, puis exécutez-le et voyez si vous avez raison :"
   ]
  },
  {
   "cell_type": "code",
   "execution_count": null,
   "metadata": {},
   "outputs": [],
   "source": [
    "texte = \"J'aime Python\"\n",
    "texte.replace(\"aime\", \"adore\")\n",
    "texte"
   ]
  },
  {
   "cell_type": "markdown",
   "metadata": {},
   "source": [
    "Avez-vous obtenu la bonne réponse ?\n",
    "\n",
    "Je vais créer un peu d'espace à nouveau pour que vous ne lisiez pas accidentellement la réponse...\n",
    "\n",
    "<br><br><br>\n",
    "\n",
    "La sortie de la cellule ci-dessus est toujours la chaîne d'origine. Le mot `aime` n'est pas changé en `adore`, pourquoi ?\n",
    "\n",
    "La raison en est que `replace` ***retourne*** une valeur. Elle ne *change* pas la chaîne. C'est une *expression*, pas une *déclaration*. C'est une *fonction*, pas une *procédure*.\n",
    "\n",
    "Pour mettre à jour la variable avec la nouvelle valeur, nous devons **capturer** la valeur de retour en *l'assignant* à nouveau :\n"
   ]
  },
  {
   "cell_type": "code",
   "execution_count": 12,
   "metadata": {},
   "outputs": [
    {
     "data": {
      "text/plain": [
       "\"J'adore Python\""
      ]
     },
     "execution_count": 12,
     "metadata": {},
     "output_type": "execute_result"
    }
   ],
   "source": [
    "texte = \"J'aime Python\"\n",
    "texte = texte.replace(\"aime\", \"adore\")\n",
    "texte"
   ]
  },
  {
   "cell_type": "markdown",
   "metadata": {},
   "source": [
    "La différence entre une fonction qui retourne une valeur et une procédure qui modifie une valeur deviendra claire avec la pratique, et il y a beaucoup à pratiquer, donc...\n",
    "\n",
    "### Questions\n",
    "Essayez le quiz pour cette section dans la cellule ci-dessous !"
   ]
  },
  {
   "cell_type": "code",
   "execution_count": null,
   "metadata": {
    "scrolled": true
   },
   "outputs": [],
   "source": [
    "from questions_interactives import run\n",
    "run(\"1.5.1q.txt\")"
   ]
  }
 ],
 "metadata": {
  "kernelspec": {
   "display_name": "Python 3 (ipykernel)",
   "language": "python",
   "name": "python3"
  },
  "language_info": {
   "codemirror_mode": {
    "name": "ipython",
    "version": 3
   },
   "file_extension": ".py",
   "mimetype": "text/x-python",
   "name": "python",
   "nbconvert_exporter": "python",
   "pygments_lexer": "ipython3",
   "version": "3.10.12"
  }
 },
 "nbformat": 4,
 "nbformat_minor": 2
}
