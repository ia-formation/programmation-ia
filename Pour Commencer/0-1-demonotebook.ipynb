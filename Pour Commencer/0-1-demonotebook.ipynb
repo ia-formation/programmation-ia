{
 "cells": [
  {
   "cell_type": "markdown",
   "metadata": {},
   "source": [
    "## Notebook de Démonstration\n",
    "Ce notebook sert de support pour vous permettre d'expérimenter les fonctionnalités de Jupyter et d'exécuter votre propre code personnalisé. Il est également utilisé dans la vidéo du cours qui présente certaines de ces fonctionnalités.\n",
    "\n",
    "Amusez-vous à explorer les menus en haut de la page, il y a beaucoup de choses que vous pouvez faire dans un notebook Jupyter. La plupart des commandes disposent également de raccourcis clavier, vous pouvez contrôler entièrement les notebooks à partir du clavier si vous le souhaitez."
   ]
  },
  {
   "cell_type": "markdown",
   "metadata": {},
   "source": [
    "#### Quelques Raccourcis Clavier\n",
    "Le raccourci clavier le plus important est `Ctrl+Entrée` qui exécute la cellule. `Maj+Entrée` exécutera la cellule et passera à la cellule suivante. `Alt+Entrée` (ou `Option+Entrée` sur un Mac) exécutera la cellule puis insérera une nouvelle cellule en dessous."
   ]
  },
  {
   "cell_type": "markdown",
   "metadata": {},
   "source": [
    "#### Cellules de Code\n",
    "Observons maintenant quelques cellules de code. Si vous consultez ceci avant de commencer le premier chapitre dans son intégralité, ne vous préoccupez pas du code en lui-même, mais plutôt des outils de Jupyter."
   ]
  },
  {
   "cell_type": "code",
   "execution_count": 1,
   "metadata": {
    "scrolled": false
   },
   "outputs": [
    {
     "data": {
      "text/plain": [
       "2"
      ]
     },
     "execution_count": 1,
     "metadata": {},
     "output_type": "execute_result"
    }
   ],
   "source": [
    "1 + 1"
   ]
  },
  {
   "cell_type": "code",
   "execution_count": 2,
   "metadata": {},
   "outputs": [],
   "source": [
    "un = 1"
   ]
  },
  {
   "cell_type": "code",
   "execution_count": 3,
   "metadata": {},
   "outputs": [
    {
     "data": {
      "text/plain": [
       "2"
      ]
     },
     "execution_count": 3,
     "metadata": {},
     "output_type": "execute_result"
    }
   ],
   "source": [
    "un + un"
   ]
  },
  {
   "cell_type": "markdown",
   "metadata": {},
   "source": [
    "Si une cellule de code a été exécutée, elle portera un numéro entre crochets. Lorsque vous ouvrez ce notebook pour la première fois, les trois cellules précédentes ont été exécutées. La deuxième n'a pas de sortie – c'est normal pour certaines cellules. Vous en apprendrez davantage plus tard."
   ]
  },
  {
   "cell_type": "code",
   "execution_count": null,
   "metadata": {},
   "outputs": [],
   "source": [
    "2 + 2"
   ]
  },
  {
   "cell_type": "markdown",
   "metadata": {},
   "source": [
    "La cellule précédente n'a pas été exécutée, il n'y a pas de numéro entre les crochets. Devinez quelle sera la réponse puis exécutez la cellule."
   ]
  },
  {
   "cell_type": "markdown",
   "metadata": {},
   "source": [
    "#### Quiz\n",
    "Exécuter la cellule suivante lancera un quiz interactif.\n",
    "\n",
    "La plupart des sections comportent un quiz de ce type pour vous aider à développer votre compréhension. Les questions deviennent plus difficiles au sein de chaque quiz et à mesure que vous progressez dans les sections ultérieures. Elles peuvent même inclure des idées que vous n'avez pas encore vues, alors assurez-vous de compléter chaque quiz au moins une fois.\n",
    "\n",
    "Si vous souhaitez exécuter du code dans une autre cellule, vous devrez soit arrêter le quiz en utilisant le bouton d'arrêt ◼️, soit ouvrir un notebook séparé."
   ]
  },
  {
   "cell_type": "code",
   "execution_count": null,
   "metadata": {
    "scrolled": false
   },
   "outputs": [],
   "source": [
    "from questions_interactives import run\n",
    "run(\"0.1.1q.txt\")\n"
   ]
  },
  {
   "cell_type": "markdown",
   "metadata": {},
   "source": [
    "#### Plus de Cellules de Code\n",
    "Si vous exécutez une cellule de code située plus bas dans la page, cela pourrait modifier l'« état » du carnet. Les carnets sont conçus pour que cela ne pose généralement pas de problème, mais vous pourriez rencontrer cette situation en écrivant vos propres cellules de code. Pour que vous voyiez de quoi nous parlons, essayez d'exécuter la cellule suivante, puis celle plus haut qui contient :\n",
    "```python\n",
    "one + one\n",
    "```\n",
    "\n",
    "Si vous avez besoin de réinitialiser l'état d'un carnet, vous pouvez cliquer sur le bouton de réinitialisation ⟳. En général, vous devriez ensuite exécuter chaque cellule de code depuis le début du carnet, en descendant la page – c'est l'ordre dans lequel elles sont normalement conçues pour être exécutées. Vous comprendrez mieux pourquoi cela est nécessaire une fois que vous commencerez à coder vous-même."
   ]
  },
  {
   "cell_type": "markdown",
   "metadata": {},
   "source": [
    "#### Cette Section est Volontairement Laisée Vide\n",
    "Le reste de ce notebook ne contient aucune information utile. N'hésitez pas à l'explorer et à expérimenter avec lui pendant que vous apprenez à utiliser Jupyter."
   ]
  },
  {
   "cell_type": "code",
   "execution_count": null,
   "metadata": {},
   "outputs": [],
   "source": []
  },
  {
   "cell_type": "code",
   "execution_count": null,
   "metadata": {},
   "outputs": [],
   "source": []
  },
  {
   "cell_type": "code",
   "execution_count": null,
   "metadata": {},
   "outputs": [],
   "source": []
  }
 ],
 "metadata": {
  "kernelspec": {
   "display_name": "Python 3 (ipykernel)",
   "language": "python",
   "name": "python3"
  },
  "language_info": {
   "codemirror_mode": {
    "name": "ipython",
    "version": 3
   },
   "file_extension": ".py",
   "mimetype": "text/x-python",
   "name": "python",
   "nbconvert_exporter": "python",
   "pygments_lexer": "ipython3",
   "version": "3.10.12"
  }
 },
 "nbformat": 4,
 "nbformat_minor": 2
}
